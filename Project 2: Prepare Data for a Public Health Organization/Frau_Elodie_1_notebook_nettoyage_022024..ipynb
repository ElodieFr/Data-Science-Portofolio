{
 "cells": [
  {
   "cell_type": "markdown",
   "id": "10e417b3-b5a7-4109-b12c-ff5d2e2e4fbf",
   "metadata": {},
   "source": [
    "<h1 style=\"font-size:1.8em\">Projet 3 - Concevez une application au service de la santé publique</h1>\n"
   ]
  },
  {
   "cell_type": "markdown",
   "id": "bf05c0b9-4937-49f2-a250-5741ea167d87",
   "metadata": {
    "tags": []
   },
   "source": [
    "# Objectifs"
   ]
  },
  {
   "cell_type": "markdown",
   "id": "d6ac701a-aa8b-43fe-961b-093abce45b49",
   "metadata": {},
   "source": [
    "1) Proposer une idée application en lien avec la nutrition\n",
    "- Netoyage de données\n",
    "- Analyse exploratoire  \n",
    "- Présentation d'une idée d'application "
   ]
  },
  {
   "cell_type": "markdown",
   "id": "2387c5c9-b78f-42cf-a0f5-6a287b67c4c8",
   "metadata": {
    "tags": []
   },
   "source": [
    "### Nettoyage de données"
   ]
  },
  {
   "cell_type": "code",
   "execution_count": 1,
   "id": "6cf4aadc-5052-4d99-958a-1720d400fb08",
   "metadata": {},
   "outputs": [],
   "source": [
    "import pandas as pd\n",
    "import numpy as np\n",
    "import random\n",
    "import matplotlib.pyplot as plt\n",
    "import re\n",
    "import seaborn as sns\n",
    "from termcolor import colored\n",
    "import math\n",
    "from scipy import stats\n",
    "from sklearn.experimental import enable_iterative_imputer\n",
    "from sklearn.linear_model import BayesianRidge\n",
    "from sklearn.impute import IterativeImputer\n",
    "from sklearn.impute import SimpleImputer\n",
    "from sklearn.impute import KNNImputer\n",
    "from sklearn.metrics import mean_squared_error, mean_absolute_error, r2_score\n",
    "from matplotlib.ticker import PercentFormatter\n",
    "from tqdm import tqdm\n",
    "from sklearn.utils.validation import FLOAT_DTYPES\n",
    "from sklearn.metrics import pairwise_distances_chunked\n",
    "from sklearn.metrics.pairwise import _NAN_METRICS\n",
    "from sklearn.neighbors._base import _get_weights\n",
    "from sklearn.utils import is_scalar_nan\n",
    "from sklearn.utils._mask import _get_mask\n",
    "from sklearn.utils.validation import check_is_fitted\n",
    "import time"
   ]
  },
  {
   "cell_type": "code",
   "execution_count": 2,
   "id": "c9dc43eb-7344-4e41-9bf5-75fa20962307",
   "metadata": {},
   "outputs": [],
   "source": [
    "pd.options.display.max_columns = None"
   ]
  },
  {
   "cell_type": "code",
   "execution_count": 3,
   "id": "6c4f0dd2-d025-4b61-95d7-fbc9035fdbe6",
   "metadata": {},
   "outputs": [],
   "source": [
    "DataProduits = pd.read_csv(r\"C:\\Users\\elodi\\Downloads\\fr.openfoodfacts.org.products.csv\\fr.openfoodfacts.org.products.csv\", sep='\\t', low_memory=False)"
   ]
  },
  {
   "cell_type": "markdown",
   "id": "d1757610-b4a8-47a4-b389-cf77b4938d4f",
   "metadata": {
    "tags": []
   },
   "source": [
    "### Fonctions "
   ]
  },
  {
   "cell_type": "markdown",
   "id": "711d2d43-3d8c-4e5a-9bff-eb3eedec5d8c",
   "metadata": {
    "jp-MarkdownHeadingCollapsed": true,
    "tags": []
   },
   "source": [
    "#### plot_nan_pourcentages(df)"
   ]
  },
  {
   "cell_type": "markdown",
   "id": "750f7635-a9bc-4565-98f5-c3b37e8cb1a7",
   "metadata": {},
   "source": [
    "Cré une répartition en barre sur le nombre de Nan (ajoute [0] et [100] dans le lot)"
   ]
  },
  {
   "cell_type": "code",
   "execution_count": 4,
   "id": "8539fd2c-fb41-4f32-bb57-b74acd683ea4",
   "metadata": {
    "tags": []
   },
   "outputs": [],
   "source": [
    "def plot_nan_pourcentages(df):\n",
    "    # Calculer le pourcentage de valeurs NaN dans chaque colonne\n",
    "    nan_percentages = (df.isna().sum() / len(df)) * 100\n",
    "\n",
    "    # Ajouter manuellement un petit intervalle pour les pourcentages 0 et 100\n",
    "    bins = [-0.1, 0.1] + list(range(10, 101, 10))\n",
    "    labels = ['[0]', ']0,10]'] + [f'[{i},{i+10}]' for i in range(10, 90, 10)] + ['[90,100[', '[100]']\n",
    "\n",
    "    # Utiliser np.digitize pour attribuer à chaque pourcentage son intervalle correspondant\n",
    "    indices = np.digitize(nan_percentages, bins)\n",
    "\n",
    "    # Compter le nombre de colonnes dans chaque intervalle\n",
    "    counts = np.bincount(indices)[1:]  # On exclut le premier élément car il correspond à des valeurs hors des intervalles définis\n",
    "\n",
    "    # Créer le graphe en barres\n",
    "    plt.figure(figsize=(10, 6))\n",
    "    plt.bar(labels, counts)\n",
    "    plt.xlabel(\"Intervalle de pourcentage de valeurs NaN\")\n",
    "    plt.ylabel(\"Nombre de colonnes\")\n",
    "    plt.title(\"Répartition des pourcentages de valeurs NaN par colonne\")\n",
    "    plt.show()"
   ]
  },
  {
   "cell_type": "markdown",
   "id": "921fbff0-c923-4f23-8c7e-df53b48c5d24",
   "metadata": {
    "jp-MarkdownHeadingCollapsed": true,
    "tags": []
   },
   "source": [
    "#### recuperer_indices_colonnes_mixtes(df, indices_colonnes)"
   ]
  },
  {
   "cell_type": "markdown",
   "id": "eeecba7a-f749-46cf-ad85-fb14ba1fe0de",
   "metadata": {},
   "source": [
    "On récupère les indices pour lequel les colonnes sont mixtes, sauf quelques exceptions: \n",
    "1) On exclut le int + float (sans string) si les floats sont tous des nan\n",
    "\n",
    "2) On exclut le string + float (sans int) si les floats sont tous des nan"
   ]
  },
  {
   "cell_type": "code",
   "execution_count": 5,
   "id": "e63b4e88-e1c7-403b-a106-ab9a9eab9019",
   "metadata": {},
   "outputs": [],
   "source": [
    "def recuperer_indices_colonnes_mixtes(df, indices_colonnes):\n",
    "    mixed_columns = []\n",
    "    for col in df.columns[indices_colonnes]:\n",
    "        unique_types = {type(x) for x in df[col]}\n",
    "        if len(unique_types) > 1:\n",
    "            float_count = 0\n",
    "            nan_count = 0\n",
    "            for x in df[col]:\n",
    "                if isinstance(x, float):\n",
    "                    float_count += 1\n",
    "                    if np.isnan(x):\n",
    "                        nan_count += 1\n",
    "            # Condition 1 - Exclure int + float (pas string) si les floats sont tous des nan\n",
    "            if int in unique_types and not str in unique_types and float in unique_types and nan_count == float_count:\n",
    "                continue\n",
    "            # Condition 2 - Exclure string + float (pas int) si tout les floats sont des nan\n",
    "            if str in unique_types and not int in unique_types and float in unique_types and nan_count == float_count:\n",
    "                continue\n",
    "            mixed_columns.append(col)\n",
    "    mixed_columns_index = [df.columns.get_loc(col) for col in mixed_columns]        \n",
    "    return mixed_columns_index"
   ]
  },
  {
   "cell_type": "markdown",
   "id": "9178d313-7fbb-4652-aa95-4ba9982f5730",
   "metadata": {
    "jp-MarkdownHeadingCollapsed": true,
    "tags": []
   },
   "source": [
    "#### analyse_colonnes_mixtes(df, indices_colonnes)"
   ]
  },
  {
   "cell_type": "code",
   "execution_count": 6,
   "id": "97ed1b09-10d2-44d7-ac68-99d0e79ee2db",
   "metadata": {},
   "outputs": [],
   "source": [
    "def analyse_colonnes_mixtes(df, indices_colonnes):\n",
    "    for colonne in indices_colonnes:\n",
    "        if colonne < len(df.columns):\n",
    "            resultat = df.iloc[:, colonne].apply(lambda x: type(x)).value_counts().reset_index()\n",
    "            resultat.columns = ['Type', 'Nombre_de_lignes']\n",
    "\n",
    "            nom_colonne = df.columns[colonne]\n",
    "            print(f\"Colonne {colonne} ({nom_colonne}):\")\n",
    "\n",
    "            for index, row in resultat.iterrows():\n",
    "                type_donnee = row['Type']\n",
    "                lignes_type = df[df.iloc[:, colonne].apply(type) == type_donnee].index.tolist()\n",
    "                exemple_au_hasard = random.choice(lignes_type)\n",
    "                print(f\"  Type : {type_donnee}, Exemple (ligne {exemple_au_hasard}): {df.iloc[exemple_au_hasard, colonne]}, Nombre de lignes : {row['Nombre_de_lignes']}\")\n",
    "\n",
    "            print(\"\\n\")"
   ]
  },
  {
   "cell_type": "markdown",
   "id": "8cb1d24c-a6b6-45a9-89f5-4ef829f19e99",
   "metadata": {
    "jp-MarkdownHeadingCollapsed": true,
    "tags": []
   },
   "source": [
    "#### convertir_strings_en_int(df, indices_colonnes)"
   ]
  },
  {
   "cell_type": "code",
   "execution_count": 7,
   "id": "6a566722-a125-410d-bf22-07b9b7bd6999",
   "metadata": {},
   "outputs": [],
   "source": [
    "def convertir_strings_en_int(df, indices_colonnes):\n",
    "    for col in df.columns[indices_colonnes]:\n",
    "        has_int = False\n",
    "        has_str = False\n",
    "        has_float = False\n",
    "        \n",
    "        for val in df[col]:\n",
    "            if isinstance(val, int):\n",
    "                has_int = True\n",
    "            elif isinstance(val, str):\n",
    "                has_str = True\n",
    "            elif isinstance(val, float):\n",
    "                has_float = True\n",
    "                \n",
    "            if has_int and has_str and has_float:\n",
    "                break\n",
    "                \n",
    "        if has_int and has_str:\n",
    "            # Convertir les valeurs en entier en utilisant une fonction pour gérer les exceptions\n",
    "            df[col] = df[col].apply(lambda x: int(x) if (isinstance(x, str) and str(x).isdigit()) or isinstance(x, int) else x)"
   ]
  },
  {
   "cell_type": "markdown",
   "id": "32c89ba2-e9ad-4703-8e54-66293f4cc8fd",
   "metadata": {
    "jp-MarkdownHeadingCollapsed": true,
    "tags": []
   },
   "source": [
    "#### Supression colonnes avec +50% NaN "
   ]
  },
  {
   "cell_type": "code",
   "execution_count": 8,
   "id": "bbf65a6e-fc9a-4d39-8370-f9bd350d7831",
   "metadata": {},
   "outputs": [],
   "source": [
    "def supprimer_colonnes_quantitatives_nan_sup_50p(df):\n",
    "    result = []\n",
    "    for col in df.columns:\n",
    "        if (df[col].dtype != object) & (df[col].isna().mean() > 0.5):\n",
    "            result.append(col)\n",
    "    return result"
   ]
  },
  {
   "cell_type": "markdown",
   "id": "966a9d6f-de8f-4d3c-ba10-df37cc40bac5",
   "metadata": {
    "jp-MarkdownHeadingCollapsed": true,
    "tags": []
   },
   "source": [
    "#### Transformation colonnes (0.0, 1.0, Nan) en jeux de booléens (False, True, Nan)"
   ]
  },
  {
   "cell_type": "code",
   "execution_count": 9,
   "id": "0086f257-1eab-4388-a955-16e2199c2729",
   "metadata": {},
   "outputs": [],
   "source": [
    "def convertir_colonne_en_boolean(df):\n",
    "    counter = 0\n",
    "\n",
    "    for col in df.columns:\n",
    "        col_without_nan = df[col].dropna()\n",
    "        if col_without_nan.nunique() == 2 and (col_without_nan.isin([0.0, 1.0])).all():\n",
    "            counter += 1\n",
    "            df[col] = df[col].map({0.0: False, 1.0: True})\n",
    "    if counter == 0:\n",
    "        print(f\"Aucune colonne binaire n'a été trouvée.\")\n",
    "    else:\n",
    "        print(f\"{counter} colonnes binaires ont été trouvées et furent converties.\")"
   ]
  },
  {
   "cell_type": "markdown",
   "id": "e11a8a6c-f715-49c0-8dc2-d564f1227bcd",
   "metadata": {
    "jp-MarkdownHeadingCollapsed": true,
    "tags": []
   },
   "source": [
    "#### Affichage optimal du dataframe (lignes minimum)"
   ]
  },
  {
   "cell_type": "markdown",
   "id": "b3cc6065-e80c-44b6-95a7-5611e8ee3071",
   "metadata": {},
   "source": [
    "Permet d'afficher le dataframe de tel sorte a ce qu'on puisse voir le plus de valeurs possibles (meilleur lisibilité).  \n",
    "Affiche le nombre de lignes nécéssaires pour avoir au final au moins une valeur non nule pour chaque colonne.  \n",
    "L'objectif ici est d'avoir au moins 3 lignes d'affichage pour avoir une analyse pertinante des lignes et des colonnes"
   ]
  },
  {
   "cell_type": "code",
   "execution_count": 10,
   "id": "c3267166-62e2-4af6-9f55-a883f4c86881",
   "metadata": {},
   "outputs": [],
   "source": [
    "def ao(df):\n",
    "    rows, columns = df.shape\n",
    "    print(\"Nombre de lignes: \", rows)\n",
    "    print(\"Nombre de colonnes: \", columns)\n",
    "\n",
    "    filled_rows = df.dropna(how='all')  \n",
    "    most_filled_row_index = filled_rows.notna().sum(axis=1).idxmax()  \n",
    "    most_filled_row = filled_rows.loc[most_filled_row_index]  \n",
    "\n",
    "    nan_columns = most_filled_row[most_filled_row.isna()].index\n",
    "    other_rows = filled_rows.drop(most_filled_row_index)\n",
    "\n",
    "    final_rows = [most_filled_row]\n",
    "\n",
    "    for col in nan_columns:\n",
    "        non_null_row = other_rows[other_rows[col].notna()].head(1)\n",
    "        if not non_null_row.empty:\n",
    "            final_rows.append(non_null_row.iloc[0])\n",
    "            other_rows = other_rows.drop(non_null_row.index)\n",
    "\n",
    "    final_df = pd.DataFrame(final_rows).reset_index(drop=True)\n",
    "\n",
    "    # Ajouter des lignes les plus remplies de df si le nombre de lignes de final_df < 3\n",
    "    if len(final_df) < 3:\n",
    "        remaining_rows_needed = 3 - len(final_df)\n",
    "        \n",
    "        # Supprimer les lignes déjà présentes dans final_df en utilisant l'index d'origine\n",
    "        original_indices = [row.name for row in final_rows]\n",
    "        df_remaining = df.drop(original_indices, errors='ignore')\n",
    "        \n",
    "        sorted_remaining_rows = df_remaining.notna().sum(axis=1).sort_values(ascending=False)\n",
    "        top_remaining_rows = sorted_remaining_rows.head(remaining_rows_needed).index\n",
    "        additional_rows = df_remaining.loc[top_remaining_rows]\n",
    "        final_df = pd.concat([final_df, additional_rows]).reset_index(drop=True)\n",
    "\n",
    "    return final_df"
   ]
  },
  {
   "cell_type": "markdown",
   "id": "bf166386-ce39-440f-a589-684faafd4504",
   "metadata": {
    "jp-MarkdownHeadingCollapsed": true,
    "tags": []
   },
   "source": [
    "#### Formattage des données quantitatives"
   ]
  },
  {
   "cell_type": "markdown",
   "id": "7ce06cd9-80aa-4ca4-9845-7d6c472c1be8",
   "metadata": {},
   "source": [
    "Formate les valeurs pour avoir un affichage un peu plus élégant"
   ]
  },
  {
   "cell_type": "code",
   "execution_count": 11,
   "id": "1f763488-3f15-4d4b-bb4c-8be46941480a",
   "metadata": {},
   "outputs": [],
   "source": [
    "def format_number(df):\n",
    "    def format_individual_number(number):\n",
    "        if isinstance(number, (int, str)):\n",
    "            return number\n",
    "        if number.is_integer():\n",
    "            return '{:.0f}'.format(number)\n",
    "        elif number < 1:\n",
    "            non_zero_digits = ''.join(str(number).split('.')).lstrip('0')\n",
    "            leading_zeros = len(str(number).split('.')[1]) - len(non_zero_digits)\n",
    "            if len(non_zero_digits) > 2:\n",
    "                formatted_number = '{:.{}f}'.format(number, leading_zeros + 2)\n",
    "            else:\n",
    "                formatted_number = '{:.{}f}'.format(number, leading_zeros + len(non_zero_digits))\n",
    "            return formatted_number.rstrip('0').rstrip('.')\n",
    "        else:\n",
    "            return '{:.2f}'.format(number).rstrip('0').rstrip('.')\n",
    "    \n",
    "    return df.applymap(format_individual_number)"
   ]
  },
  {
   "cell_type": "markdown",
   "id": "39f31e0c-abf6-4698-bfdc-5384004fb446",
   "metadata": {
    "jp-MarkdownHeadingCollapsed": true,
    "tags": []
   },
   "source": [
    "#### Méthode des écarts interquartiles (IQR)"
   ]
  },
  {
   "cell_type": "markdown",
   "id": "f24e7c40-deb1-424e-a0b8-03e66483c8d2",
   "metadata": {},
   "source": [
    "La méthode de l'interquartile (IQR pour Inter Quartile Range en anglais) est une mesure de la dispersion des données statistiques. Elle mesure l'écart entre le premier quartile (Q1), qui représente le 25ème percentile des données, et le troisième quartile (Q3), qui représente le 75ème percentile des données.  \n",
    "\n",
    "L'IQR peut être utilisé pour détecter les valeurs aberrantes ou atypiques dans un jeu de données, en déterminant les limites de l'intervalle de confiance de la distribution. Les valeurs situées en dehors de l'intervalle défini par Q1 - 1,5 * IQR et Q3 + 1,5 * IQR peuvent être considérées comme des valeurs aberrantes."
   ]
  },
  {
   "cell_type": "code",
   "execution_count": 12,
   "id": "1454e050-0f28-47db-a5ac-54c62ce13dbc",
   "metadata": {},
   "outputs": [],
   "source": [
    "def detecter_et_analyser_outliers_iqr(df, multiplicateur=1.5):\n",
    "    def detecter_outliers_iqr(serie, multiplicateur=1.5):\n",
    "        q1 = serie.quantile(0.25)\n",
    "        q3 = serie.quantile(0.75)\n",
    "        iqr = q3 - q1\n",
    "        seuil_bas = q1 - multiplicateur * iqr\n",
    "        seuil_haut = q3 + multiplicateur * iqr\n",
    "        outliers = (serie < seuil_bas) | (serie > seuil_haut)\n",
    "        return outliers, seuil_bas, seuil_haut\n",
    "    \n",
    "    colonnes = df.columns\n",
    "    outliers_df = pd.DataFrame()\n",
    "    outliers_min = {}\n",
    "    \n",
    "    for col in colonnes:\n",
    "        if np.issubdtype(df[col].dtype, np.number):\n",
    "            outliers, seuil_bas, seuil_haut = detecter_outliers_iqr(df[col])\n",
    "            outliers_df[col] = outliers\n",
    "            outliers_min[col] = df[col][outliers].min()\n",
    "        \n",
    "    outliers_count = outliers_df.sum()\n",
    "    nb_lignes = df.shape[0]\n",
    "    outliers_percentage = {col: 100 * count / nb_lignes for col, count in outliers_count.items()}\n",
    "    data = []\n",
    "    \n",
    "    for col in colonnes:\n",
    "        if np.issubdtype(df[col].dtype, np.number):\n",
    "            count = outliers_count[col]\n",
    "            percentage = outliers_percentage[col]\n",
    "            min_outlier = outliers_min[col]\n",
    "            data.append([col, count, percentage, min_outlier])\n",
    "        \n",
    "    df_results = pd.DataFrame(data, columns=['Colonne', 'Nombre d\\'outliers', 'Pourcentage', 'Minimum'])\n",
    "    # Fonction pour formater les nombres en chaîne de caractères avec ou sans chiffres après la virgule\n",
    "   \n",
    "   # Définir la colonne \"colonne\" comme index\n",
    "    df_results.set_index('Colonne', inplace=True)\n",
    "\n",
    "    # Enlever le nom de l'index\n",
    "    df_results.index.name = None\n",
    "    \n",
    "    return df_results"
   ]
  },
  {
   "cell_type": "markdown",
   "id": "9c743990-d187-4352-b925-8799a7528381",
   "metadata": {
    "jp-MarkdownHeadingCollapsed": true,
    "tags": []
   },
   "source": [
    "#### Trouver le bon sample"
   ]
  },
  {
   "cell_type": "markdown",
   "id": "138dd2d2-6e2a-4dd7-a6e8-723d059c7693",
   "metadata": {},
   "source": [
    "Tente de trouver un échantillon du dataframe de tel sorte a ce que la différence relative entre le sample et le dataframe entier sur la moyenne, la médiane, l'écart-type, le skewness et le kurtosis soit inférieur a 5%.  "
   ]
  },
  {
   "cell_type": "code",
   "execution_count": 13,
   "id": "0db62982-3712-45cc-a1c6-7baf491de900",
   "metadata": {},
   "outputs": [],
   "source": [
    "def trouver_le_bon_sample(df, proportion=10, threshold=5, tentatives=5):\n",
    "    threshold = threshold / 100\n",
    "    \n",
    "    def nan_skew(column):\n",
    "        mean = np.nanmean(column)\n",
    "        std = np.nanstd(column)\n",
    "        n = np.count_nonzero(~np.isnan(column))\n",
    "\n",
    "        if n < 2:\n",
    "            return np.nan\n",
    "\n",
    "        diff = column - mean\n",
    "        diff_cubed = np.nan_to_num(diff ** 3)\n",
    "        skewness = np.nansum(diff_cubed) / (n * std**3)\n",
    "    \n",
    "        return skewness\n",
    "\n",
    "    def nan_kurtosis(column):\n",
    "        mean = np.nanmean(column)\n",
    "        std = np.nanstd(column)\n",
    "        n = np.count_nonzero(~np.isnan(column))\n",
    "\n",
    "        if n < 3:\n",
    "            return np.nan\n",
    "\n",
    "        diff = column - mean\n",
    "        diff_fourth_power = np.nan_to_num(diff ** 4)\n",
    "        kurt = np.nansum(diff_fourth_power) / (n * std**4) - 3\n",
    "\n",
    "        return kurt\n",
    "\n",
    "    for attempt in range(1, tentatives + 1):\n",
    "        sample = df.sample(frac=proportion / 100)\n",
    "        sample_stats = sample.describe()\n",
    "        df_stats = df.describe()\n",
    "\n",
    "        comparison_df = pd.DataFrame(columns=['Variable', 'Diff_Moyenne_Relative', 'Diff_Mediane_Relative', 'Diff_EcartType_Relative', 'Diff_Skewness_Relative', 'Diff_Kurtosis_Relative'])\n",
    "\n",
    "        is_representative = True\n",
    "\n",
    "        for column in df.columns:\n",
    "            if df[column].dtype in ['float64', 'int64']:\n",
    "                mean_diff = abs((df_stats.loc['mean', column] - sample_stats.loc['mean', column]) / df_stats.loc['mean', column])\n",
    "                median_diff = abs((df_stats.loc['50%', column] - sample_stats.loc['50%', column]) / df_stats.loc['50%', column])\n",
    "                std_diff = abs((df_stats.loc['std', column] - sample_stats.loc['std', column]) / df_stats.loc['std', column])\n",
    "                skew_diff = abs((nan_skew(df[column]) - nan_skew(sample[column])) / nan_skew(df[column])) \n",
    "                kurtosis_diff = abs((nan_kurtosis(df[column]) - nan_kurtosis(sample[column])) / nan_kurtosis(df[column])) \n",
    "\n",
    "                row_data = {'Variable': column,\n",
    "                            'Diff_Moyenne_Relative': mean_diff * 100,\n",
    "                            'Diff_Mediane_Relative': median_diff * 100,\n",
    "                            'Diff_EcartType_Relative': std_diff * 100,\n",
    "                            'Diff_Skewness_Relative': skew_diff * 100,\n",
    "                            'Diff_Kurtosis_Relative': kurtosis_diff * 100}\n",
    "\n",
    "                comparison_df = pd.concat([comparison_df, pd.DataFrame([row_data], columns=row_data.keys())], ignore_index=True)\n",
    "\n",
    "                if mean_diff > threshold or median_diff > threshold or std_diff > threshold or skew_diff > threshold or kurtosis_diff > threshold:\n",
    "                    is_representative = False\n",
    "\n",
    "        if is_representative:\n",
    "            print(f\"L'échantillon est suffisamment représentatif de l'ensemble de données après {attempt} tentatives.\")\n",
    "            break\n",
    "        elif attempt == tentatives:\n",
    "            print(f\"Après {attempt} tentatives, aucun échantillon représentatif n'a été trouvé.\")\n",
    "\n",
    "    def highlight_threshold(s, threshold):\n",
    "        return ['background-color: green' if val <= threshold else 'background-color: red' for val in s]\n",
    "\n",
    "    styled_comparison_df = comparison_df.style.apply(highlight_threshold, threshold=threshold * 100, subset=['Diff_Moyenne_Relative', 'Diff_Mediane_Relative', 'Diff_EcartType_Relative', 'Diff_Skewness_Relative', 'Diff_Kurtosis_Relative'])\n",
    "\n",
    "    display(styled_comparison_df)\n",
    "    \n",
    "    if is_representative:\n",
    "        print(f\"L'échantillon est suffisamment représentatif de l'ensemble de données après {attempt} tentatives.\")\n",
    "    \n",
    "    if not is_representative:\n",
    "        print(\"Augmentez la taille de l'échantillon et réessayez.\")\n",
    "\n",
    "    # Sélectionner une colonne numérique aléatoire\n",
    "    numeric_columns = df.select_dtypes(include=['int64', 'float64']).columns\n",
    "    random_column = np.random.choice(numeric_columns)\n",
    "\n",
    "    plt.figure(figsize=(10, 6))\n",
    "    n_df, bins, _ = plt.hist(df[random_column], bins=15, alpha=0.5, label='Dataframe complet', edgecolor='black', color='red', density=False)\n",
    "    n_sample, _, _ = plt.hist(sample[random_column], bins=bins, alpha=0.5, label='Echantillon', edgecolor='black', color='green', density=False)\n",
    "\n",
    "    # Convertir les occurrences en pourcentage\n",
    "    n_df_percent = n_df / n_df.sum()\n",
    "    n_sample_percent = n_sample / n_sample.sum()\n",
    "\n",
    "    # Supprimer les anciens histogrammes\n",
    "    plt.clf()\n",
    "\n",
    "    bin_width = bins[1] - bins[0]\n",
    "    bin_centers = bins[:-1] + bin_width / 2\n",
    "\n",
    "    # Afficher les nouveaux histogrammes avec les pourcentages\n",
    "    plt.bar(bin_centers, n_df_percent, width=bin_width, alpha=0.5, label='Dataframe complet', edgecolor='black', color='red')\n",
    "    plt.bar(bin_centers, n_sample_percent, width=bin_width, alpha=0.5, label='Echantillon', edgecolor='black', color='blue')\n",
    "\n",
    "    plt.xlabel(f'Valeurs de la colonne {random_column}')\n",
    "    plt.ylabel('Pourcentage')\n",
    "    plt.legend(loc='upper right')\n",
    "    plt.title(f'Histogramme de la colonne {random_column} pour le dataframe complet et l\\'échantillon')\n",
    "\n",
    "    # Ajuster les valeurs de l'axe des ordonnées pour afficher les pourcentages\n",
    "    plt.gca().yaxis.set_major_formatter(PercentFormatter(1))\n",
    "    plt.show()\n",
    "    \n",
    "    return sample"
   ]
  },
  {
   "cell_type": "markdown",
   "id": "d9cd2b24-0b94-4c4e-8242-51bf386cfb63",
   "metadata": {
    "jp-MarkdownHeadingCollapsed": true,
    "tags": []
   },
   "source": [
    "#### Création sample sans nan et sample avec le même % de NaN que le dataframe original"
   ]
  },
  {
   "cell_type": "code",
   "execution_count": 14,
   "id": "2c8b9b59-99ea-421b-875e-bd8561d531ee",
   "metadata": {},
   "outputs": [],
   "source": [
    "def creation_samples_simulations(df, sample):\n",
    "    sample_non_nan = sample.dropna(subset=sample.select_dtypes(include=['float', 'int']).columns, how='any')\n",
    "    sample_nan = sample_non_nan.copy()\n",
    "\n",
    "    missing_values_perc = df.isna().mean() * 100\n",
    "\n",
    "    for col, perc in missing_values_perc.items():\n",
    "        if col in sample_nan.columns:\n",
    "            mask = np.random.rand(len(sample_nan)) < perc / 100\n",
    "            sample_nan[col] = np.where(mask, np.nan, sample_nan[col])\n",
    "    \n",
    "    float_cols = df.select_dtypes(include=['float'])\n",
    "    missing_values_perc_df = float_cols.isna().mean() * 100\n",
    "    \n",
    "    float_cols = sample_nan.select_dtypes(include=['float'])\n",
    "    missing_values_perc_sample_nan = float_cols.isna().mean() * 100\n",
    "    \n",
    "    comparaison = pd.DataFrame({'DataFrame': missing_values_perc_df,\n",
    "                               'sample_nan': missing_values_perc_sample_nan})\n",
    "    display(comparaison)\n",
    "    \n",
    "    return sample_nan, sample_non_nan"
   ]
  },
  {
   "cell_type": "markdown",
   "id": "36701eaf-0409-4737-96cb-58a6387211c2",
   "metadata": {
    "tags": []
   },
   "source": [
    "## Calcul de la qualité de plusieurs imputations"
   ]
  },
  {
   "cell_type": "markdown",
   "id": "4ae15ef5-e0f1-4dad-b4a5-d753c56ea562",
   "metadata": {},
   "source": [
    "Ici nous allons utiliser 3 techniques :\n",
    "- **IterativeImputer** \n",
    " \n",
    "- **KNNImputer**   \n",
    "\n",
    "- **SimpleImputer**\n"
   ]
  },
  {
   "cell_type": "code",
   "execution_count": 15,
   "id": "4500c2b7-529e-4056-8e56-b9d4162f5382",
   "metadata": {},
   "outputs": [],
   "source": [
    "def evaluation_imputation(sample_nan, sample_non_nan, imputer=\"IterativeImputer\", max_iter=1000, verbose=False, min_value=None, max_value=None, tol = 1e-3):\n",
    "    # Sélectionnez les colonnes numériques\n",
    "    numerical_columns = sample_non_nan.select_dtypes(include=[np.number]).columns\n",
    "\n",
    "    # Créez des tableaux numpy contenant uniquement les colonnes numériques\n",
    "    sample_non_nan_numerical = sample_non_nan[numerical_columns].to_numpy()\n",
    "    sample_nan_numerical = sample_nan[numerical_columns].to_numpy()\n",
    "        \n",
    "    if imputer == \"IterativeImputer\":\n",
    "        imputer = IterativeImputer(\n",
    "            max_iter=max_iter, \n",
    "            verbose = verbose,\n",
    "            tol = tol,\n",
    "            max_value = max_value,\n",
    "            min_value = min_value,\n",
    "            estimator=BayesianRidge()\n",
    "        )\n",
    "\n",
    "    if imputer == \"KNNImputer\":\n",
    "        imputer = KNNImputer(\n",
    "            n_neighbors=5, \n",
    "        )\n",
    "\n",
    "    if imputer == \"SimpleImputer\":\n",
    "        imputer = SimpleImputer(\n",
    "            strategy=\"mean\" \n",
    "        )\n",
    "\n",
    "    start_time = time.time()\n",
    "    imputer.fit(sample_nan_numerical)\n",
    "    end_time = time.time()\n",
    "    print(\"Temps écoulé FIT: {:.2f} secondes\".format(end_time - start_time))\n",
    "    \n",
    "    start_time = time.time()\n",
    "    sample_imputed_numerical = imputer.transform(sample_nan_numerical)\n",
    "    end_time = time.time()\n",
    "    print(\"Temps écoulé IMPUTATION: {:.2f} secondes\".format(end_time - start_time))\n",
    "\n",
    "\n",
    "    # Créez un dataframe pour stocker les métriques d'évaluation\n",
    "    evaluation_metrics = pd.DataFrame(columns=[\"Column\", \"R²\", \"RMSE\", \"MAE\"])\n",
    "\n",
    "    # Parcourez chaque colonne numérique et calculez les métriques d'évaluation\n",
    "    for idx, column in enumerate(numerical_columns):\n",
    "        r2 = r2_score(sample_non_nan_numerical[:, idx], sample_imputed_numerical[:, idx])\n",
    "        mse = mean_squared_error(sample_non_nan_numerical[:, idx], sample_imputed_numerical[:, idx])\n",
    "        rmse = np.sqrt(mse)\n",
    "        mae = mean_absolute_error(sample_non_nan_numerical[:, idx], sample_imputed_numerical[:, idx])\n",
    "\n",
    "        # Ajoutez les métriques d'évaluation au dataframe en utilisant pandas.concat\n",
    "        evaluation_metrics = pd.concat([evaluation_metrics, pd.DataFrame({\"Column\": [column], \"R²\": [r2], \"RMSE\": [rmse], \"MAE\": [mae]})], ignore_index=True)\n",
    "        \n",
    "    display(evaluation_metrics)\n",
    "    \n",
    "    return imputer, evaluation_metrics"
   ]
  },
  {
   "cell_type": "markdown",
   "id": "2fdb76d4-1e0f-422e-b788-0f6c29116342",
   "metadata": {
    "tags": []
   },
   "source": [
    "#### Donne le meilleur imputer"
   ]
  },
  {
   "cell_type": "markdown",
   "id": "ab515115-9edf-46e9-a1d6-47b95661d455",
   "metadata": {},
   "source": [
    "Cette fonction compare différentes imputations et donne le \"gagnant\" sur chaque cellule"
   ]
  },
  {
   "cell_type": "code",
   "execution_count": 16,
   "id": "160b6ab4-066d-41cf-9c0b-8ed8222348d6",
   "metadata": {},
   "outputs": [],
   "source": [
    "def imputation_winner(evaluation_metrics_Iterative, evaluation_metrics_KNN, evaluation_metrics_Simple):\n",
    "    comparison_df = pd.DataFrame(columns=['Column', 'R² Winner', 'RMSE Winner', 'MAE Winner'])\n",
    "\n",
    "    # Iterate over each row of the evaluation metrics dataframes\n",
    "    for i in range(evaluation_metrics_KNN.shape[0]):\n",
    "        column = evaluation_metrics_KNN.iloc[i]['Column']\n",
    "        knn_r2 = evaluation_metrics_KNN.iloc[i]['R²']\n",
    "        knn_rmse = evaluation_metrics_KNN.iloc[i]['RMSE']\n",
    "        knn_mae = evaluation_metrics_KNN.iloc[i]['MAE']\n",
    "\n",
    "        iterative_r2 = evaluation_metrics_Iterative.iloc[i]['R²']\n",
    "        iterative_rmse = evaluation_metrics_Iterative.iloc[i]['RMSE']\n",
    "        iterative_mae = evaluation_metrics_Iterative.iloc[i]['MAE']\n",
    "\n",
    "        simple_r2 = evaluation_metrics_Simple.iloc[i]['R²']\n",
    "        simple_rmse = evaluation_metrics_Simple.iloc[i]['RMSE']\n",
    "        simple_mae = evaluation_metrics_Simple.iloc[i]['MAE']\n",
    "\n",
    "        # Determine the winner for R²\n",
    "        r2_winner = ''\n",
    "        if knn_r2 > iterative_r2 and knn_r2 > simple_r2:\n",
    "            r2_winner = 'KNN'\n",
    "        elif iterative_r2 > knn_r2 and iterative_r2 > simple_r2:\n",
    "            r2_winner = 'Iterative'\n",
    "        elif simple_r2 > knn_r2 and simple_r2 > iterative_r2:\n",
    "            r2_winner = 'Simple'\n",
    "\n",
    "        # Determine the winner for RMSE\n",
    "        rmse_winner = ''\n",
    "        if knn_rmse < iterative_rmse and knn_rmse < simple_rmse:\n",
    "            rmse_winner = 'KNN'\n",
    "        elif iterative_rmse < knn_rmse and iterative_rmse < simple_rmse:\n",
    "            rmse_winner = 'Iterative'\n",
    "        elif simple_rmse < knn_rmse and simple_rmse < iterative_rmse:\n",
    "            rmse_winner = 'Simple'\n",
    "\n",
    "        # Determine the winner for MAE\n",
    "        mae_winner = ''\n",
    "        if knn_mae < iterative_mae and knn_mae < simple_mae:\n",
    "            mae_winner = 'KNN'\n",
    "        elif iterative_mae < knn_mae and iterative_mae < simple_mae:\n",
    "            mae_winner = 'Iterative'\n",
    "        elif simple_mae < knn_mae and simple_mae < iterative_mae:\n",
    "            mae_winner = 'Simple'\n",
    "\n",
    "        comparison_df = pd.concat([comparison_df, pd.DataFrame([[column, r2_winner, rmse_winner, mae_winner]], columns=comparison_df.columns)], ignore_index=True)\n",
    "        \n",
    "   # Comptez les occurrences de chaque possibilité dans chaque colonne\n",
    "    count_r2 = comparison_df['R² Winner'].value_counts()\n",
    "    count_rmse = comparison_df['RMSE Winner'].value_counts()\n",
    "    count_mae = comparison_df['MAE Winner'].value_counts()\n",
    "\n",
    "    # Combine les comptages pour déterminer le gagnant global\n",
    "    total_counts = count_r2.add(count_rmse, fill_value=0).add(count_mae, fill_value=0)\n",
    "\n",
    "    # Trouvez le gagnant avec le nombre maximum d'apparitions\n",
    "    winner = total_counts.idxmax()\n",
    "    max_occurrences = total_counts.max()\n",
    "\n",
    "    # Calculez le nombre total de cellules et le pourcentage d'apparitions\n",
    "    total_cells = len(comparison_df) * 3\n",
    "    percentage = (max_occurrences / total_cells) * 100\n",
    "\n",
    "    print(f\"Le gagnant est {winner} avec {max_occurrences} apparitions sur {total_cells} soit {percentage:.2f}% d'apparitions.\")\n",
    "    display(comparison_df)\n",
    "    return comparison_df, winner\n"
   ]
  },
  {
   "cell_type": "markdown",
   "id": "2aa5958e-fd4f-47eb-ab32-23e904b149db",
   "metadata": {
    "tags": []
   },
   "source": [
    "#### Imputation DataFrame (IterativeImputer)"
   ]
  },
  {
   "cell_type": "code",
   "execution_count": 17,
   "id": "1cec92b0-54be-4178-af3d-2a6e395b6a14",
   "metadata": {},
   "outputs": [],
   "source": [
    "def IterativeImputer_(df, max_iter, verbose=True, min_value=None, max_value=None, tol = 1e-3):\n",
    "    # Sélectionner uniquement les colonnes numériques pour le traitement\n",
    "    numeric_cols = df.select_dtypes(include=[np.number]).columns\n",
    "    df_numeric = df[numeric_cols]\n",
    "\n",
    "    # Convertir le DataFrame numérique en un tableau numpy\n",
    "    X = df_numeric.values\n",
    "    \n",
    "    imputer = IterativeImputer(\n",
    "        max_iter=max_iter, \n",
    "        verbose = verbose,\n",
    "        tol = tol,\n",
    "        max_value = max_value,\n",
    "        min_value = min_value,\n",
    "        estimator=BayesianRidge()\n",
    "    )\n",
    "\n",
    "    # Ajuster l'objet IterativeImputer sur les données\n",
    "    imputer.fit(X)\n",
    "\n",
    "    # Remplacer les valeurs manquantes avec les valeurs prédites\n",
    "    X_imputed = imputer.transform(X)\n",
    "\n",
    "    # Convertir le tableau numpy en un DataFrame pandas\n",
    "    df_numeric_imputed = pd.DataFrame(X_imputed, columns=df_numeric.columns)\n",
    "\n",
    "    # Réinitialiser l'index pour les deux DataFrames pour éviter les problèmes de dimensions\n",
    "    df = df.reset_index(drop=True)\n",
    "    df_numeric_imputed = df_numeric_imputed.reset_index(drop=True)\n",
    "\n",
    "    # Fusionner les colonnes numériques imputées avec les colonnes de chaîne de caractères originales\n",
    "    df_imputed = pd.concat([df.drop(numeric_cols, axis=1), df_numeric_imputed], axis=1)\n",
    "\n",
    "    # Spécifier l'ordre des colonnes pour le DataFrame final\n",
    "    df_imputed = df_imputed.reindex(columns=df.columns, copy=False)\n",
    "\n",
    "    # Retourner les données imputées\n",
    "    return df_imputed\n"
   ]
  },
  {
   "cell_type": "markdown",
   "id": "8fd88fd8-a244-4e2c-b638-1b19fe6b9eef",
   "metadata": {},
   "source": [
    "#### Imputation DataFrame (KNN)"
   ]
  },
  {
   "cell_type": "code",
   "execution_count": 18,
   "id": "640dbb1a-b9f5-4107-a227-2ddaf7ce3b1a",
   "metadata": {},
   "outputs": [],
   "source": [
    "from sklearn.impute import KNNImputer\n",
    "from tqdm import tqdm\n",
    "from sklearn.utils.validation import FLOAT_DTYPES\n",
    "from sklearn.metrics import pairwise_distances_chunked\n",
    "from sklearn.metrics.pairwise import _NAN_METRICS\n",
    "from sklearn.neighbors._base import _get_weights\n",
    "from sklearn.utils import is_scalar_nan\n",
    "from sklearn.utils._mask import _get_mask\n",
    "from sklearn.utils.validation import check_is_fitted\n",
    "\n",
    "class KNNImputer_Progress(KNNImputer):\n",
    "    def transform(self, X):\n",
    "        check_is_fitted(self)\n",
    "        if not is_scalar_nan(self.missing_values):\n",
    "            force_all_finite = True\n",
    "        else:\n",
    "            force_all_finite = \"allow-nan\"\n",
    "        X = self._validate_data(\n",
    "            X,\n",
    "            accept_sparse=False,\n",
    "            dtype=FLOAT_DTYPES,\n",
    "            force_all_finite=force_all_finite,\n",
    "            copy=self.copy,\n",
    "            reset=False,\n",
    "        )\n",
    "\n",
    "        mask = _get_mask(X, self.missing_values)\n",
    "        mask_fit_X = self._mask_fit_X\n",
    "        valid_mask = self._valid_mask\n",
    "\n",
    "        X_indicator = super()._transform_indicator(mask)\n",
    "\n",
    "        # Removes columns where the training data is all nan\n",
    "        if not np.any(mask):\n",
    "            # No missing values in X\n",
    "            if self.keep_empty_features:\n",
    "                Xc = X\n",
    "                Xc[:, ~valid_mask] = 0\n",
    "            else:\n",
    "                Xc = X[:, valid_mask]\n",
    "            return Xc\n",
    "\n",
    "        row_missing_idx = np.flatnonzero(mask.any(axis=1))\n",
    "        non_missing_fix_X = np.logical_not(mask_fit_X)\n",
    "\n",
    "        # Maps from indices from X to indices in dist matrix\n",
    "        dist_idx_map = np.zeros(X.shape[0], dtype=int)\n",
    "        dist_idx_map[row_missing_idx] = np.arange(row_missing_idx.shape[0])\n",
    "        \n",
    "        counter = 0\n",
    "        update_interval = 1  # Adjust this value to change how often the status is printed\n",
    "        total_iterations = X.shape[0] * X.shape[1]\n",
    "        update_interval = 1\n",
    "        progress_percentage = 1  # Change this value to change how often the status is printed (in percentage)\n",
    "        progress_interval = int((total_iterations * progress_percentage) / 100)\n",
    "        start_time = time.time()\n",
    "        initial_nan = np.sum(np.isnan(X))\n",
    "        \n",
    "        def process_chunk(dist_chunk, start):\n",
    "            row_missing_chunk = row_missing_idx[start : start + len(dist_chunk)]\n",
    "            # Find and impute missing by column\n",
    "            for col in range(X.shape[1]):\n",
    "                nonlocal counter\n",
    "                counter += 1\n",
    "                if counter % update_interval == 0:\n",
    "                    elapsed_time = time.time() - start_time\n",
    "                    progress = (counter / total_iterations) * 100\n",
    "                    remaining_nan = np.sum(np.isnan(X))\n",
    "                    filled_percentage = 100 - ((remaining_nan / initial_nan) * 100)\n",
    "                    print(\"Il reste encore {} valeurs NaN, le pourcentage de remplissage est de {:.2f}%, le temps écoulé est de {:.2f} secondes\".format(remaining_nan, filled_percentage, elapsed_time), end=\"\\r\")\n",
    "\n",
    "                if not valid_mask[col]:\n",
    "                    # column was all missing during training\n",
    "                    continue\n",
    "\n",
    "                col_mask = mask[row_missing_chunk, col]\n",
    "                if not np.any(col_mask):\n",
    "                    # column has no missing values\n",
    "                    continue\n",
    "\n",
    "                (potential_donors_idx,) = np.nonzero(non_missing_fix_X[:, col])\n",
    "\n",
    "                # receivers_idx are indices in X\n",
    "                receivers_idx = row_missing_chunk[np.flatnonzero(col_mask)]\n",
    "\n",
    "                # distances for samples that needed imputation for column\n",
    "                dist_subset = dist_chunk[dist_idx_map[receivers_idx] - start][\n",
    "                    :, potential_donors_idx\n",
    "                ]\n",
    "\n",
    "                # receivers with all nan distances impute with mean\n",
    "                all_nan_dist_mask = np.isnan(dist_subset).all(axis=1)\n",
    "                all_nan_receivers_idx = receivers_idx[all_nan_dist_mask]\n",
    "\n",
    "                if all_nan_receivers_idx.size:\n",
    "                    col_mean = np.ma.array(\n",
    "                        self._fit_X[:, col], mask=mask_fit_X[:, col]\n",
    "                    ).mean()\n",
    "                    X[all_nan_receivers_idx, col] = col_mean\n",
    "\n",
    "                    if len(all_nan_receivers_idx) == len(receivers_idx):\n",
    "                        # all receivers imputed with mean\n",
    "                        continue\n",
    "\n",
    "                    # receivers with at least one defined distance\n",
    "                    receivers_idx = receivers_idx[~all_nan_dist_mask]\n",
    "                    dist_subset = dist_chunk[dist_idx_map[receivers_idx] - start][\n",
    "                        :, potential_donors_idx\n",
    "                    ]\n",
    "\n",
    "                n_neighbors = min(self.n_neighbors, len(potential_donors_idx))\n",
    "                value = self._calc_impute(\n",
    "                    dist_subset,\n",
    "                    n_neighbors,\n",
    "                    self._fit_X[potential_donors_idx, col],\n",
    "                    mask_fit_X[potential_donors_idx, col],\n",
    "                )\n",
    "                X[receivers_idx, col] = value\n",
    "\n",
    "        # process in fixed-memory chunks\n",
    "        gen = pairwise_distances_chunked(\n",
    "            X[row_missing_idx, :],\n",
    "            self._fit_X,\n",
    "            metric=self.metric,\n",
    "            missing_values=self.missing_values,\n",
    "            force_all_finite=force_all_finite,\n",
    "            reduce_func=process_chunk,\n",
    "        )\n",
    "        \n",
    "        for chunk in gen:\n",
    "            pass\n",
    "\n",
    "        if self.keep_empty_features:\n",
    "            Xc = X\n",
    "            Xc[:, ~valid_mask] = 0\n",
    "        else:\n",
    "            Xc = X[:, valid_mask]\n",
    "        return super()._concatenate_indicator(Xc, X_indicator)\n",
    "\n",
    "\n",
    "def KNNImputer_(df, seuil_min=None, seuil_max=None, n_neighbors=5):\n",
    "    # Séparer les colonnes numériques et qualitatives\n",
    "    df_numeric = df.select_dtypes(include=[np.number])\n",
    "    df_qualitative = df.select_dtypes(exclude=[np.number])\n",
    "\n",
    "    # Convertir le DataFrame numérique en un tableau numpy\n",
    "    data = df_numeric.to_numpy()\n",
    "\n",
    "    # Utilisation de KNNImputer pour imputer les valeurs manquantes\n",
    "    imputer = KNNImputer(missing_values=np.nan)\n",
    "    imputer.fit(data)\n",
    "    imputed_data = imputer.transform(data)\n",
    "\n",
    "    # Appliquez les seuils minimum et maximum si spécifiés\n",
    "    if seuil_min is not None and seuil_max is not None:\n",
    "        imputed_data = np.where(imputed_data < seuil_min, seuil_min, np.where(imputed_data > seuil_max, seuil_max, imputed_data))\n",
    "    elif seuil_min is not None:\n",
    "        imputed_data = np.where(imputed_data < seuil_min, seuil_min, imputed_data)\n",
    "    elif seuil_max is not None:\n",
    "        imputed_data = np.where(imputed_data > seuil_max, seuil_max, imputed_data)\n",
    "\n",
    "    # Convertir le tableau numpy en DataFrame\n",
    "    imputed_df_numeric = pd.DataFrame(imputed_data, columns=df_numeric.columns, index=df_numeric.index)\n",
    "\n",
    "    # Combiner les colonnes numériques imputées et les colonnes qualitatives\n",
    "    imputed_df = pd.concat([imputed_df_numeric, df_qualitative], axis=1)\n",
    "    imputed_df = imputed_df[df.columns]\n",
    "\n",
    "    return imputed_df"
   ]
  },
  {
   "cell_type": "markdown",
   "id": "d75ce011-ebe7-4793-a33e-8a5b66c28fe2",
   "metadata": {
    "tags": []
   },
   "source": [
    "#### Trouver les colonnes fortement corélées entre elles"
   ]
  },
  {
   "cell_type": "code",
   "execution_count": 19,
   "id": "7a145910-cd2b-407f-abc0-4e083c344f06",
   "metadata": {},
   "outputs": [],
   "source": [
    "def heatmap_correlation_colonnes(df):\n",
    "    # Calculer la matrice de corrélation\n",
    "    corr = df.corr(numeric_only=True)\n",
    "\n",
    "    # Créer la heatmap\n",
    "    sns.heatmap(np.around(corr, decimals=2), annot=True)\n",
    "\n",
    "    # Afficher la heatmap\n",
    "    plt.show()\n",
    "\n",
    "    # Trouver les colonnes fortement corrélées\n",
    "    correlated_columns = []\n",
    "    for i in range(len(corr.columns)):\n",
    "        for j in range(i+1, len(corr.columns)):\n",
    "            if corr.iloc[i, j] >= 0.95:\n",
    "                col1 = corr.columns[i]\n",
    "                col2 = corr.columns[j]\n",
    "                found = False\n",
    "                for group in correlated_columns:\n",
    "                    if col1 in group or col2 in group:\n",
    "                        group.add(col1)\n",
    "                        group.add(col2)\n",
    "                        found = True\n",
    "                        break\n",
    "                if not found:\n",
    "                    correlated_columns.append({col1, col2})\n",
    "\n",
    "    # Afficher les colonnes fortement corrélées\n",
    "    print(\"Les colonnes fortement corrélées entre elles sont :\")\n",
    "    for group in correlated_columns:\n",
    "        print(f\"({', '.join(group)})\")\n",
    "    return correlated_columns"
   ]
  },
  {
   "cell_type": "markdown",
   "id": "04ec14ed-18b1-45b3-8605-f505914ba8a0",
   "metadata": {
    "tags": []
   },
   "source": [
    "#### Supression lignes avec valeurs quantitatives NaN (ou uniquement des 0)"
   ]
  },
  {
   "cell_type": "code",
   "execution_count": 20,
   "id": "bf774888-f7ef-4788-87a9-a93237856939",
   "metadata": {},
   "outputs": [],
   "source": [
    "import pandas as pd\n",
    "import numpy as np\n",
    "\n",
    "def supprimer_lignes_nan(df):\n",
    "    # Sélectionnez uniquement les colonnes quantitatives (float et int)\n",
    "    quantitative_columns = df.select_dtypes(include=[np.number]).columns\n",
    "\n",
    "    # Créez des masques pour les différentes conditions\n",
    "    mask_zeros = (df[quantitative_columns] == 0).all(axis=1)\n",
    "    mask_nans = df[quantitative_columns].isnull().all(axis=1)\n",
    "    mask_zeros_and_nans = (df[quantitative_columns] == 0) | df[quantitative_columns].isnull()\n",
    "\n",
    "    # Combinez les masques et inversez-les pour sélectionner les lignes à conserver\n",
    "    mask_to_keep = ~(mask_zeros | mask_nans | mask_zeros_and_nans.all(axis=1))\n",
    "\n",
    "    # Calculez et affichez le nombre de lignes supprimées\n",
    "    nb_rows_removed = len(df) - mask_to_keep.sum()\n",
    "    print(f\"{nb_rows_removed} lignes ont été supprimées.\")\n",
    "    return df[mask_to_keep]"
   ]
  },
  {
   "cell_type": "markdown",
   "id": "ceff9b81-5384-47d9-b211-2ba9e5ded49e",
   "metadata": {},
   "source": [
    "#### Correction des colonnes avec des types mixtes"
   ]
  },
  {
   "cell_type": "code",
   "execution_count": 21,
   "id": "85fdfc2f-ecdf-4730-983f-da99ac480e14",
   "metadata": {},
   "outputs": [],
   "source": [
    "# On initialise index_colonnes_mixtes comme étant tout les indices des colonnes du dataframe, et on réduira au fur et à mesure\n",
    "indices_colonnes_mixtes = list(range(len(DataProduits.columns)))"
   ]
  },
  {
   "cell_type": "code",
   "execution_count": 22,
   "id": "bbaed93b-e1dc-407c-9f86-5cb509ca1d3c",
   "metadata": {},
   "outputs": [
    {
     "name": "stdout",
     "output_type": "stream",
     "text": [
      "Les numéros de colonnes avec des types mixtes sont: []\n"
     ]
    }
   ],
   "source": [
    "indices_colonnes_mixtes = recuperer_indices_colonnes_mixtes(DataProduits, indices_colonnes_mixtes)\n",
    "print(\"Les numéros de colonnes avec des types mixtes sont:\", indices_colonnes_mixtes)"
   ]
  },
  {
   "cell_type": "markdown",
   "id": "09cf1b2d-aa3d-4f68-b163-71040431ebd8",
   "metadata": {},
   "source": [
    "On affiche les colonnes ayant un mauvais formatage"
   ]
  },
  {
   "cell_type": "code",
   "execution_count": 23,
   "id": "79e8c542-0d19-4607-af4c-fead17dcc7e1",
   "metadata": {},
   "outputs": [],
   "source": [
    "analyse_colonnes_mixtes(DataProduits, indices_colonnes_mixtes)"
   ]
  },
  {
   "cell_type": "code",
   "execution_count": 24,
   "id": "7da6751c-d4c6-46aa-859a-794a935a61e6",
   "metadata": {},
   "outputs": [],
   "source": [
    "convertir_strings_en_int(DataProduits, indices_colonnes_mixtes)"
   ]
  },
  {
   "cell_type": "markdown",
   "id": "a5dd37aa-861c-4e27-9698-0693a6cc9312",
   "metadata": {},
   "source": [
    "On recherche à nouveau les indices des colonnes mal formatés"
   ]
  },
  {
   "cell_type": "code",
   "execution_count": 25,
   "id": "80429560-9771-42af-9972-3d072a90e7b2",
   "metadata": {},
   "outputs": [
    {
     "name": "stdout",
     "output_type": "stream",
     "text": [
      "Les numéros de colonnes avec des types mixtes sont: []\n"
     ]
    }
   ],
   "source": [
    "indices_colonnes_mixtes = recuperer_indices_colonnes_mixtes(DataProduits, indices_colonnes_mixtes)\n",
    "print(\"Les numéros de colonnes avec des types mixtes sont:\", indices_colonnes_mixtes)"
   ]
  },
  {
   "cell_type": "markdown",
   "id": "5da455b0-d639-4747-8b95-5aa63c1b1509",
   "metadata": {},
   "source": [
    "On regarde à nouveau le résultat "
   ]
  },
  {
   "cell_type": "code",
   "execution_count": 26,
   "id": "92f0192a-f816-4cb1-acea-2575bdf9573e",
   "metadata": {},
   "outputs": [],
   "source": [
    "analyse_colonnes_mixtes(DataProduits, indices_colonnes_mixtes)"
   ]
  },
  {
   "cell_type": "code",
   "execution_count": 27,
   "id": "56ba0853-94af-464b-b94e-c61db5f96c7d",
   "metadata": {},
   "outputs": [],
   "source": [
    "for col_index in indices_colonnes_mixtes:\n",
    "    col = DataProduits.iloc[:, col_index]\n",
    "    for i in range(DataProduits.shape[0]):\n",
    "        if isinstance(col[i], str):\n",
    "            DataProduits.at[i, col.name] = np.nan"
   ]
  },
  {
   "cell_type": "code",
   "execution_count": 28,
   "id": "e561b07e-c3e2-43cc-837b-4bfc17249ddd",
   "metadata": {},
   "outputs": [
    {
     "name": "stdout",
     "output_type": "stream",
     "text": [
      "Les numéros de colonnes avec des types mixtes sont: []\n"
     ]
    }
   ],
   "source": [
    "indices_colonnes_mixtes = recuperer_indices_colonnes_mixtes(DataProduits, indices_colonnes_mixtes)\n",
    "print(\"Les numéros de colonnes avec des types mixtes sont:\", indices_colonnes_mixtes)"
   ]
  },
  {
   "cell_type": "markdown",
   "id": "a1e27a77-d217-48fb-8407-1487d59d53e6",
   "metadata": {},
   "source": [
    "#### Verification colonnes booleenes"
   ]
  },
  {
   "cell_type": "code",
   "execution_count": 29,
   "id": "a42fe399-ba3e-43c1-9c72-a054b7dd5f73",
   "metadata": {},
   "outputs": [
    {
     "name": "stdout",
     "output_type": "stream",
     "text": [
      "Aucune colonne binaire n'a été trouvée.\n"
     ]
    }
   ],
   "source": [
    "convertir_colonne_en_boolean(DataProduits)"
   ]
  },
  {
   "cell_type": "markdown",
   "id": "6c4f0932-ed91-4489-9d52-6b084e0d6f01",
   "metadata": {
    "tags": []
   },
   "source": [
    "#### Supression lignes sans \"codes\""
   ]
  },
  {
   "cell_type": "code",
   "execution_count": 30,
   "id": "bcf1a01a-00e9-4d36-8651-91d991fc5122",
   "metadata": {},
   "outputs": [],
   "source": [
    "DataProduits = DataProduits.dropna(subset=[\"code\"])"
   ]
  },
  {
   "cell_type": "markdown",
   "id": "89030a8a-6b94-4e08-b479-936f425896cd",
   "metadata": {},
   "source": [
    "#### Verification des nan"
   ]
  },
  {
   "cell_type": "code",
   "execution_count": 31,
   "id": "b8e82bab-4a21-4bdc-83eb-9de4cfafb757",
   "metadata": {},
   "outputs": [
    {
     "data": {
      "image/png": "[encoded data removed]",
      "text/plain": [
       "<Figure size 720x432 with 1 Axes>"
      ]
     },
     "metadata": {
      "needs_background": "light"
     },
     "output_type": "display_data"
    }
   ],
   "source": [
    "plot_nan_pourcentages(DataProduits)"
   ]
  },
  {
   "cell_type": "markdown",
   "id": "4a8fbf9a-87d2-4ec2-8886-6f62102bf255",
   "metadata": {},
   "source": [
    "**On va supprimer en 1er lieu les colonnes ayant 100% de NaN**"
   ]
  },
  {
   "cell_type": "code",
   "execution_count": 32,
   "id": "ef8703cf-08e4-4620-a6c7-54d25e11356c",
   "metadata": {},
   "outputs": [
    {
     "name": "stdout",
     "output_type": "stream",
     "text": [
      "Les colonnes suivantes ont été supprimées:  ['erucic-acid_100g', 'cities', 'nervonic-acid_100g', 'chlorophyl_100g', 'caproic-acid_100g', 'elaidic-acid_100g', 'dihomo-gamma-linolenic-acid_100g', 'glycemic-index_100g', 'ingredients_from_palm_oil', 'mead-acid_100g', 'water-hardness_100g', 'behenic-acid_100g', 'nutrition_grade_uk', 'gondoic-acid_100g', 'melissic-acid_100g', 'lignoceric-acid_100g', 'allergens_fr', 'cerotic-acid_100g', 'butyric-acid_100g', 'ingredients_that_may_be_from_palm_oil', 'no_nutriments']\n"
     ]
    }
   ],
   "source": [
    "# Obtenir les noms de colonnes avant la suppression\n",
    "cols_before = DataProduits.columns\n",
    "\n",
    "# Supprimer les colonnes avec 100% de valeurs manquantes\n",
    "DataProduits = DataProduits.dropna(axis=1, how='all')\n",
    "\n",
    "# Obtenir les noms de colonnes après la suppression\n",
    "cols_after = DataProduits.columns\n",
    "\n",
    "# Comparer les noms de colonnes avant et après la suppression\n",
    "deleted_cols = set(cols_before) - set(cols_after)\n",
    "\n",
    "# Afficher les noms des colonnes supprimées\n",
    "print(\"Les colonnes suivantes ont été supprimées: \", list(deleted_cols))"
   ]
  },
  {
   "cell_type": "markdown",
   "id": "d50a4d3b-f18e-4dd7-a0ee-485611401e80",
   "metadata": {},
   "source": [
    "Il faut faire attention, on a supprimé des colonnes qui ont des équivalents \"_tags\", plus tard on souhaite supprimer ces dernières, mais on ne le fera pas si \"_tags\" n'a plus son équivalent classique, on va garder ces exceptions dans une liste"
   ]
  },
  {
   "cell_type": "code",
   "execution_count": 33,
   "id": "7724917f-1730-4f88-802e-08d8f8350472",
   "metadata": {},
   "outputs": [
    {
     "name": "stdout",
     "output_type": "stream",
     "text": [
      "['cities_tags', 'ingredients_from_palm_oil_tags', 'ingredients_that_may_be_from_palm_oil_tags']\n"
     ]
    }
   ],
   "source": [
    "new_cols = []\n",
    "for col in deleted_cols:\n",
    "    col_tags = col + \"_tags\"\n",
    "    if col_tags in DataProduits.columns:\n",
    "        new_cols.append(col_tags)\n",
    "\n",
    "print(new_cols)"
   ]
  },
  {
   "cell_type": "markdown",
   "id": "e960428e-00cc-46de-bf23-1640491f0d31",
   "metadata": {},
   "source": [
    "**En général, pour avoir un dataset précis et que les interpolations se fassent avec précision, les colonnes ne doivent pas dépasser 50% de NaN (pour les colonnes quantitatives**"
   ]
  },
  {
   "cell_type": "code",
   "execution_count": 34,
   "id": "0cec4410-1cb9-4cce-a20a-ff20e07693b3",
   "metadata": {},
   "outputs": [
    {
     "name": "stdout",
     "output_type": "stream",
     "text": [
      "Colonnes quantitatives ayant plus de 50% de NaN: ['energy-from-fat_100g', 'caprylic-acid_100g', 'capric-acid_100g', 'lauric-acid_100g', 'myristic-acid_100g', 'palmitic-acid_100g', 'stearic-acid_100g', 'arachidic-acid_100g', 'montanic-acid_100g', 'monounsaturated-fat_100g', 'polyunsaturated-fat_100g', 'omega-3-fat_100g', 'alpha-linolenic-acid_100g', 'eicosapentaenoic-acid_100g', 'docosahexaenoic-acid_100g', 'omega-6-fat_100g', 'linoleic-acid_100g', 'arachidonic-acid_100g', 'gamma-linolenic-acid_100g', 'omega-9-fat_100g', 'oleic-acid_100g', 'trans-fat_100g', 'cholesterol_100g', 'sucrose_100g', 'glucose_100g', 'fructose_100g', 'lactose_100g', 'maltose_100g', 'maltodextrins_100g', 'starch_100g', 'polyols_100g', 'casein_100g', 'serum-proteins_100g', 'nucleotides_100g', 'alcohol_100g', 'vitamin-a_100g', 'beta-carotene_100g', 'vitamin-d_100g', 'vitamin-e_100g', 'vitamin-k_100g', 'vitamin-c_100g', 'vitamin-b1_100g', 'vitamin-b2_100g', 'vitamin-pp_100g', 'vitamin-b6_100g', 'vitamin-b9_100g', 'folates_100g', 'vitamin-b12_100g', 'biotin_100g', 'pantothenic-acid_100g', 'silica_100g', 'bicarbonate_100g', 'potassium_100g', 'chloride_100g', 'calcium_100g', 'phosphorus_100g', 'iron_100g', 'magnesium_100g', 'zinc_100g', 'copper_100g', 'manganese_100g', 'fluoride_100g', 'selenium_100g', 'chromium_100g', 'molybdenum_100g', 'iodine_100g', 'caffeine_100g', 'taurine_100g', 'ph_100g', 'fruits-vegetables-nuts_100g', 'collagen-meat-protein-ratio_100g', 'cocoa_100g', 'carbon-footprint_100g']\n"
     ]
    }
   ],
   "source": [
    "result = supprimer_colonnes_quantitatives_nan_sup_50p(DataProduits)\n",
    "print(\"Colonnes quantitatives ayant plus de 50% de NaN:\", result)"
   ]
  },
  {
   "cell_type": "markdown",
   "id": "9059828a-7ea9-4811-b365-75a61315fbf8",
   "metadata": {},
   "source": [
    "On va supprimer ces colonnes quantitatives"
   ]
  },
  {
   "cell_type": "code",
   "execution_count": 35,
   "id": "7e3cfe14-ea3b-422b-9795-b9cc7fdb4f23",
   "metadata": {},
   "outputs": [],
   "source": [
    "columns_to_drop = [col for col in DataProduits.columns if col in result]\n",
    "DataProduits = DataProduits.drop(columns=columns_to_drop)"
   ]
  },
  {
   "cell_type": "code",
   "execution_count": 36,
   "id": "e20023e3-5ad7-4f4d-90d0-7c2a73a74ba0",
   "metadata": {},
   "outputs": [
    {
     "name": "stdout",
     "output_type": "stream",
     "text": [
      "Nombre de lignes:  320749\n",
      "Nombre de colonnes:  68\n"
     ]
    }
   ],
   "source": [
    "# suppression des colonnes en utilisant la liste d'indices\n",
    "rows, columns = DataProduits.shape\n",
    "print(\"Nombre de lignes: \", rows)\n",
    "print(\"Nombre de colonnes: \", columns)"
   ]
  },
  {
   "cell_type": "markdown",
   "id": "38ef79b3-5e7c-4803-89c5-18eefe1f5b91",
   "metadata": {},
   "source": [
    "#### Supression des lignes NaN"
   ]
  },
  {
   "cell_type": "code",
   "execution_count": 37,
   "id": "5a696d3a-f437-4b49-a9bd-03a520276f8b",
   "metadata": {},
   "outputs": [
    {
     "name": "stdout",
     "output_type": "stream",
     "text": [
      "56113 lignes ont été supprimées.\n"
     ]
    }
   ],
   "source": [
    "DataProduits = supprimer_lignes_nan(DataProduits)"
   ]
  },
  {
   "cell_type": "markdown",
   "id": "1cdbec32-b95e-406e-86b3-5609dd75e890",
   "metadata": {
    "tags": []
   },
   "source": [
    "### Filtrage des colonnes"
   ]
  },
  {
   "cell_type": "markdown",
   "id": "bbf3f970-f53d-4e56-b6b7-6bff13f2d0dc",
   "metadata": {},
   "source": [
    "#### Suppression colonnes non \"fr\""
   ]
  },
  {
   "cell_type": "code",
   "execution_count": 38,
   "id": "12c9e49e-1377-420a-a770-e1abb9649240",
   "metadata": {},
   "outputs": [
    {
     "name": "stdout",
     "output_type": "stream",
     "text": [
      "['code', 'url', 'creator', 'created_t', 'created_datetime', 'last_modified_t', 'last_modified_datetime', 'product_name', 'generic_name', 'quantity', 'packaging', 'packaging_tags', 'brands', 'brands_tags', 'categories', 'categories_tags', 'categories_fr', 'origins', 'origins_tags', 'manufacturing_places', 'manufacturing_places_tags', 'labels', 'labels_tags', 'labels_fr', 'emb_codes', 'emb_codes_tags', 'first_packaging_code_geo', 'cities_tags', 'purchase_places', 'stores', 'countries', 'countries_tags', 'countries_fr', 'ingredients_text', 'allergens', 'traces', 'traces_tags', 'traces_fr', 'serving_size', 'additives_n', 'additives', 'additives_tags', 'additives_fr', 'ingredients_from_palm_oil_n', 'ingredients_from_palm_oil_tags', 'ingredients_that_may_be_from_palm_oil_n', 'ingredients_that_may_be_from_palm_oil_tags', 'nutrition_grade_fr', 'pnns_groups_1', 'pnns_groups_2', 'states', 'states_tags', 'states_fr', 'main_category', 'main_category_fr', 'image_url', 'image_small_url', 'energy_100g', 'fat_100g', 'saturated-fat_100g', 'carbohydrates_100g', 'sugars_100g', 'fiber_100g', 'proteins_100g', 'salt_100g', 'sodium_100g', 'nutrition-score-fr_100g', 'nutrition-score-uk_100g']\n"
     ]
    }
   ],
   "source": [
    "column_names = DataProduits.columns\n",
    "print(column_names.tolist())"
   ]
  },
  {
   "cell_type": "markdown",
   "id": "1b4c2aa4-10d7-41b2-97c9-383ceb1c94d2",
   "metadata": {},
   "source": [
    "On a des colonnes redondantes, on a une colonne classique avec sa version francaise (_ fr ou fr _)."
   ]
  },
  {
   "cell_type": "code",
   "execution_count": 39,
   "id": "93c7d9d7-87d8-4aa7-a6e9-d845ec4cce85",
   "metadata": {},
   "outputs": [
    {
     "name": "stdout",
     "output_type": "stream",
     "text": [
      "[('categories', 'categories_tags', 'categories_fr'), ('labels', 'labels_tags', 'labels_fr'), ('countries', 'countries_tags', 'countries_fr'), ('traces', 'traces_tags', 'traces_fr'), ('additives', 'additives_n', 'additives_tags', 'additives_fr'), ('states', 'states_tags', 'states_fr'), ('main_category', 'main_category_fr'), ('nutrition-score-fr_100g', 'nutrition-score-uk_100g')]\n"
     ]
    }
   ],
   "source": [
    "result = []\n",
    "\n",
    "results_dict = {}\n",
    "\n",
    "for nom in column_names:\n",
    "    if \"_fr\" in nom:\n",
    "        base_name = nom.split(\"_fr\")[0]\n",
    "        if base_name in column_names:\n",
    "            if base_name not in results_dict:\n",
    "                results_dict[base_name] = [base_name, nom]\n",
    "            else:\n",
    "                results_dict[base_name].append(nom)\n",
    "            for other_nom in column_names:\n",
    "                if other_nom.startswith(base_name + \"_\") and other_nom != nom and \"_fr\" not in other_nom:\n",
    "                    if other_nom not in results_dict[base_name]:\n",
    "                        results_dict[base_name].insert(-1, other_nom)\n",
    "\n",
    "for nom in column_names:\n",
    "    match = re.search(r\"^(.+)(?<![a-z])fr(?![a-z])(.+)$\", nom)\n",
    "    if match:\n",
    "        base_name = match.group(1)\n",
    "        suffix = match.group(2)\n",
    "        found_pair = False\n",
    "        for other_nom in column_names:\n",
    "            if other_nom.startswith(base_name) and other_nom.endswith(suffix) and other_nom != nom and not re.search(r\"(?<![a-z])fr(?![a-z])\", other_nom):\n",
    "                t = (base_name, nom, other_nom)\n",
    "                if (base_name, nom) in results_dict:\n",
    "                    del results_dict[(base_name, nom)]\n",
    "                results_dict[t] = t\n",
    "                found_pair = True\n",
    "                break\n",
    "        if not found_pair:\n",
    "            t = (base_name, nom)\n",
    "            results_dict[t] = t\n",
    "\n",
    "result = list(results_dict.values())\n",
    "result = [tuple(y for y in x if y in column_names) for x in result]\n",
    "result = [x for x in result if x]\n",
    "print(result)\n"
   ]
  },
  {
   "cell_type": "code",
   "execution_count": 40,
   "id": "db25fa82-b817-49b5-a0f6-817f41944cd7",
   "metadata": {},
   "outputs": [
    {
     "name": "stdout",
     "output_type": "stream",
     "text": [
      "['categories', 'categories_tags', 'labels', 'labels_tags', 'countries', 'countries_tags', 'traces', 'traces_tags', 'additives', 'additives_n', 'additives_tags', 'states', 'states_tags', 'main_category', 'nutrition-score-uk_100g']\n"
     ]
    }
   ],
   "source": [
    "filtered_result = [item for t in result for item in t if \"_fr\" not in item and \"fr_\" not in item]\n",
    "print(filtered_result)"
   ]
  },
  {
   "cell_type": "code",
   "execution_count": 41,
   "id": "0d5c4158-665a-441a-8a07-c962fcc9eb1a",
   "metadata": {},
   "outputs": [],
   "source": [
    "columns_to_drop = [col for col in DataProduits.columns if col in filtered_result]\n",
    "DataProduits = DataProduits.drop(columns=columns_to_drop)"
   ]
  },
  {
   "cell_type": "code",
   "execution_count": 42,
   "id": "1fcfa378-fdae-4409-bc8b-b533dc80cd53",
   "metadata": {},
   "outputs": [
    {
     "name": "stdout",
     "output_type": "stream",
     "text": [
      "Nombre de lignes:  264636\n",
      "Nombre de colonnes:  53\n"
     ]
    }
   ],
   "source": [
    "rows, columns = DataProduits.shape\n",
    "print(\"Nombre de lignes: \", rows)\n",
    "print(\"Nombre de colonnes: \", columns)"
   ]
  },
  {
   "cell_type": "markdown",
   "id": "ab2ed4cc-91d3-4110-abab-5105d2f3fc95",
   "metadata": {},
   "source": [
    "### Netoyage manuel"
   ]
  },
  {
   "cell_type": "markdown",
   "id": "47237da8-8b6d-4466-b271-bd1ad9118f0d",
   "metadata": {},
   "source": [
    "#### Temps"
   ]
  },
  {
   "cell_type": "code",
   "execution_count": 43,
   "id": "4fc15ea3-a2b6-497d-9457-f73b57e69104",
   "metadata": {},
   "outputs": [
    {
     "name": "stdout",
     "output_type": "stream",
     "text": [
      "Les colonnes suivantes ont été supprimées :  ['created_t', 'last_modified_t']\n"
     ]
    }
   ],
   "source": [
    "# Sélectionnez les colonnes à supprimer\n",
    "cols_to_drop = [col for col in DataProduits.columns if col.endswith('_t')]\n",
    "DataProduits = DataProduits.drop(cols_to_drop, axis=1)\n",
    "\n",
    "# Afficher le nom des colonnes supprimées\n",
    "print(\"Les colonnes suivantes ont été supprimées : \", cols_to_drop)"
   ]
  },
  {
   "cell_type": "markdown",
   "id": "ae927c14-139c-4cfb-ba01-6e377f032502",
   "metadata": {},
   "source": [
    "#### Tags"
   ]
  },
  {
   "cell_type": "markdown",
   "id": "48e5bc99-b89b-480f-bb39-40b2769f5b94",
   "metadata": {},
   "source": [
    "On a une version classique (Ex: brands -> Auchan,L'oiseau) et une version \"_tags\" (Ex: brands_tags -> auchan,l-oiseau)  \n",
    "Le formatage tags est moins élégant, on va le supprimer"
   ]
  },
  {
   "cell_type": "code",
   "execution_count": 44,
   "id": "a67f9175-1f8e-45f8-a6da-5a1dbfa56695",
   "metadata": {},
   "outputs": [
    {
     "name": "stdout",
     "output_type": "stream",
     "text": [
      "Les colonnes suivantes ont été supprimées :  ['packaging_tags', 'brands_tags', 'origins_tags', 'manufacturing_places_tags', 'emb_codes_tags']\n"
     ]
    }
   ],
   "source": [
    "# Sélectionnez les colonnes à supprimer\n",
    "cols_to_drop = [col for col in DataProduits.columns if col.endswith('_tags') and col not in new_cols]\n",
    "DataProduits = DataProduits.drop(cols_to_drop, axis=1)\n",
    "\n",
    "# Afficher le nom des colonnes supprimées\n",
    "print(\"Les colonnes suivantes ont été supprimées : \", cols_to_drop)"
   ]
  },
  {
   "cell_type": "markdown",
   "id": "28ba470d-6141-4608-bae0-ceca8bb9521e",
   "metadata": {},
   "source": [
    "#### Noms des produits"
   ]
  },
  {
   "cell_type": "markdown",
   "id": "6379f189-4e84-4cbd-ab8b-f0122d86d909",
   "metadata": {},
   "source": [
    "On a \"product_name\" (Exemple -> Hachis Parmentier, Surgelé) qui possède un meilleur formatage et possède plus de précisions que generic_name (Hachis parmentier)  \n",
    "On va par conséquent supprimer \"generic_name\""
   ]
  },
  {
   "cell_type": "code",
   "execution_count": 45,
   "id": "44062392-4742-4ad3-9ad2-34d0f186195e",
   "metadata": {},
   "outputs": [],
   "source": [
    "DataProduits = DataProduits.drop(\"generic_name\", axis=1)"
   ]
  },
  {
   "cell_type": "markdown",
   "id": "259c65b9-0825-492b-8b32-e7a60410d7be",
   "metadata": {},
   "source": [
    "#### states_fr"
   ]
  },
  {
   "cell_type": "markdown",
   "id": "9f02b6d6-a426-49ff-b411-3c642f20850c",
   "metadata": {},
   "source": [
    "Cette colonne a l'air de ne posséder que des valeurs possédant \"A vérifier\" ou \"A completer\""
   ]
  },
  {
   "cell_type": "code",
   "execution_count": 46,
   "id": "30a44a2d-fa85-4677-8b06-ae1de1409640",
   "metadata": {},
   "outputs": [
    {
     "data": {
      "text/html": [
       "<div>\n",
       "<style scoped>\n",
       "    .dataframe tbody tr th:only-of-type {\n",
       "        vertical-align: middle;\n",
       "    }\n",
       "\n",
       "    .dataframe tbody tr th {\n",
       "        vertical-align: top;\n",
       "    }\n",
       "\n",
       "    .dataframe thead th {\n",
       "        text-align: right;\n",
       "    }\n",
       "</style>\n",
       "<table border=\"1\" class=\"dataframe\">\n",
       "  <thead>\n",
       "    <tr style=\"text-align: right;\">\n",
       "      <th></th>\n",
       "      <th>code</th>\n",
       "      <th>url</th>\n",
       "      <th>creator</th>\n",
       "      <th>created_datetime</th>\n",
       "      <th>last_modified_datetime</th>\n",
       "      <th>product_name</th>\n",
       "      <th>quantity</th>\n",
       "      <th>packaging</th>\n",
       "      <th>brands</th>\n",
       "      <th>categories_fr</th>\n",
       "      <th>origins</th>\n",
       "      <th>manufacturing_places</th>\n",
       "      <th>labels_fr</th>\n",
       "      <th>emb_codes</th>\n",
       "      <th>first_packaging_code_geo</th>\n",
       "      <th>cities_tags</th>\n",
       "      <th>purchase_places</th>\n",
       "      <th>stores</th>\n",
       "      <th>countries_fr</th>\n",
       "      <th>ingredients_text</th>\n",
       "      <th>allergens</th>\n",
       "      <th>traces_fr</th>\n",
       "      <th>serving_size</th>\n",
       "      <th>additives_fr</th>\n",
       "      <th>ingredients_from_palm_oil_n</th>\n",
       "      <th>ingredients_from_palm_oil_tags</th>\n",
       "      <th>ingredients_that_may_be_from_palm_oil_n</th>\n",
       "      <th>ingredients_that_may_be_from_palm_oil_tags</th>\n",
       "      <th>nutrition_grade_fr</th>\n",
       "      <th>pnns_groups_1</th>\n",
       "      <th>pnns_groups_2</th>\n",
       "      <th>states_fr</th>\n",
       "      <th>main_category_fr</th>\n",
       "      <th>image_url</th>\n",
       "      <th>image_small_url</th>\n",
       "      <th>energy_100g</th>\n",
       "      <th>fat_100g</th>\n",
       "      <th>saturated-fat_100g</th>\n",
       "      <th>carbohydrates_100g</th>\n",
       "      <th>sugars_100g</th>\n",
       "      <th>fiber_100g</th>\n",
       "      <th>proteins_100g</th>\n",
       "      <th>salt_100g</th>\n",
       "      <th>sodium_100g</th>\n",
       "      <th>nutrition-score-fr_100g</th>\n",
       "    </tr>\n",
       "  </thead>\n",
       "  <tbody>\n",
       "  </tbody>\n",
       "</table>\n",
       "</div>"
      ],
      "text/plain": [
       "Empty DataFrame\n",
       "Columns: [code, url, creator, created_datetime, last_modified_datetime, product_name, quantity, packaging, brands, categories_fr, origins, manufacturing_places, labels_fr, emb_codes, first_packaging_code_geo, cities_tags, purchase_places, stores, countries_fr, ingredients_text, allergens, traces_fr, serving_size, additives_fr, ingredients_from_palm_oil_n, ingredients_from_palm_oil_tags, ingredients_that_may_be_from_palm_oil_n, ingredients_that_may_be_from_palm_oil_tags, nutrition_grade_fr, pnns_groups_1, pnns_groups_2, states_fr, main_category_fr, image_url, image_small_url, energy_100g, fat_100g, saturated-fat_100g, carbohydrates_100g, sugars_100g, fiber_100g, proteins_100g, salt_100g, sodium_100g, nutrition-score-fr_100g]\n",
       "Index: []"
      ]
     },
     "execution_count": 46,
     "metadata": {},
     "output_type": "execute_result"
    }
   ],
   "source": [
    "df = DataProduits\n",
    "\n",
    "# Sélectionner les valeurs de la colonne \"states_fr\" qui ne contiennent pas \"A vérifier\" ou \"A compléter\"\n",
    "not_to_check = df.loc[~(df[\"states_fr\"].str.contains(\"A vérifier\") | df[\"states_fr\"].str.contains(\"A compléter\"))]\n",
    "\n",
    "# Enlever les lignes contenant des NaN\n",
    "not_to_check = not_to_check.dropna(subset=[\"states_fr\"])\n",
    "\n",
    "# Afficher les valeurs sélectionnées\n",
    "not_to_check"
   ]
  },
  {
   "cell_type": "markdown",
   "id": "8dde6f20-4b84-48f7-bfe2-31370f911db3",
   "metadata": {},
   "source": [
    "Ce n'est pas très intéréssant -> On va la supprimer "
   ]
  },
  {
   "cell_type": "code",
   "execution_count": 47,
   "id": "a8a8bc2b-db3f-4a3c-966c-f109ef3e199a",
   "metadata": {},
   "outputs": [],
   "source": [
    "DataProduits = DataProduits.drop(\"states_fr\", axis=1)"
   ]
  },
  {
   "cell_type": "markdown",
   "id": "e0b46816-0af6-480b-8fe8-f4279089511b",
   "metadata": {},
   "source": [
    "#### pnns_groups_1 et\tpnns_groups_2"
   ]
  },
  {
   "cell_type": "markdown",
   "id": "dd057332-5185-44f4-ad72-d9eb078a40d0",
   "metadata": {},
   "source": [
    "pnns_groups_1 et pnns_groups_2 ont leurs équivalents francais (main_category_fr, categories_fr)  \n",
    "On supprime par conséquent la pair (pnns_groups_1 pnns_groups_2) par cause de redondance"
   ]
  },
  {
   "cell_type": "code",
   "execution_count": 48,
   "id": "ca5ba78f-3a33-4f88-a14d-068d62e5d7ba",
   "metadata": {},
   "outputs": [],
   "source": [
    "DataProduits = DataProduits.drop(\"pnns_groups_1\", axis=1)\n",
    "DataProduits = DataProduits.drop(\"pnns_groups_2\", axis=1)"
   ]
  },
  {
   "cell_type": "markdown",
   "id": "9e5943a0-cf0f-4efe-a136-a63ed9215bc8",
   "metadata": {},
   "source": [
    "De plus, **categories_fr** possède les informations de **main_category_fr** -> On supprime **main_category_fr**"
   ]
  },
  {
   "cell_type": "code",
   "execution_count": 49,
   "id": "ea869a47-9dd2-45c7-a278-d53b433dfbf8",
   "metadata": {},
   "outputs": [],
   "source": [
    "DataProduits = DataProduits.drop(\"main_category_fr\", axis=1)"
   ]
  },
  {
   "cell_type": "markdown",
   "id": "139af91c-2731-4c82-9a1a-e19a53964236",
   "metadata": {},
   "source": [
    "#### Colonnes finissant par \"_ n\""
   ]
  },
  {
   "cell_type": "code",
   "execution_count": 50,
   "id": "f9aa06ef-f39d-445c-aaa0-b13b0e77023a",
   "metadata": {},
   "outputs": [
    {
     "data": {
      "text/html": [
       "<div>\n",
       "<style scoped>\n",
       "    .dataframe tbody tr th:only-of-type {\n",
       "        vertical-align: middle;\n",
       "    }\n",
       "\n",
       "    .dataframe tbody tr th {\n",
       "        vertical-align: top;\n",
       "    }\n",
       "\n",
       "    .dataframe thead th {\n",
       "        text-align: right;\n",
       "    }\n",
       "</style>\n",
       "<table border=\"1\" class=\"dataframe\">\n",
       "  <thead>\n",
       "    <tr style=\"text-align: right;\">\n",
       "      <th></th>\n",
       "      <th>ingredients_from_palm_oil_n</th>\n",
       "      <th>ingredients_from_palm_oil_tags</th>\n",
       "      <th>ingredients_that_may_be_from_palm_oil_n</th>\n",
       "      <th>ingredients_that_may_be_from_palm_oil_tags</th>\n",
       "    </tr>\n",
       "  </thead>\n",
       "  <tbody>\n",
       "  </tbody>\n",
       "</table>\n",
       "</div>"
      ],
      "text/plain": [
       "Empty DataFrame\n",
       "Columns: [ingredients_from_palm_oil_n, ingredients_from_palm_oil_tags, ingredients_that_may_be_from_palm_oil_n, ingredients_that_may_be_from_palm_oil_tags]\n",
       "Index: []"
      ]
     },
     "execution_count": 50,
     "metadata": {},
     "output_type": "execute_result"
    }
   ],
   "source": [
    "df = DataProduits\n",
    "# Récupérer toutes les colonnes finissant par \"_n\"\n",
    "cols = [col for col in df.columns if col.endswith(\"_n\")]\n",
    "\n",
    "# Couper le mot de ces colonnes pour ne récupérer que la partie sans \"_n\"\n",
    "new_cols = [col.rstrip(\"_n\") for col in cols]\n",
    "\n",
    "# Rechercher toutes les colonnes qui ont dans leur nom la partie coupée\n",
    "result_cols = [col for col in df.columns if any(new_col in col for new_col in new_cols)]\n",
    "\n",
    "row = df.loc[df[\"code\"] == 3248830085058]\n",
    "\n",
    "# Afficher les valeurs des colonnes dans result_cols\n",
    "row[result_cols]"
   ]
  },
  {
   "cell_type": "markdown",
   "id": "aed0e58d-ce76-4fc4-9f83-9453735cddd7",
   "metadata": {},
   "source": [
    "On remarque qu'avoir des colonnes avec _n est redondant, on a plus de précision avec leurs équivalents _tags, on va par conséquent supprimer ces colonnes"
   ]
  },
  {
   "cell_type": "code",
   "execution_count": 51,
   "id": "fc9750d5-4d23-4134-8e75-324fe93ad4d4",
   "metadata": {},
   "outputs": [
    {
     "name": "stdout",
     "output_type": "stream",
     "text": [
      "Les colonnes suivantes ont être supprimées : ['ingredients_from_palm_oil_n', 'ingredients_that_may_be_from_palm_oil_n']\n"
     ]
    }
   ],
   "source": [
    "# Supprimer les colonnes\n",
    "DataProduits = DataProduits.drop(columns=cols, axis=1)\n",
    "print(\"Les colonnes suivantes ont être supprimées :\", cols)"
   ]
  },
  {
   "cell_type": "markdown",
   "id": "71edc99a-4c70-4cb8-8f7e-86728db02a68",
   "metadata": {},
   "source": [
    "#### Comparaison valeurs fat_100g et saturated-fat_100g"
   ]
  },
  {
   "cell_type": "code",
   "execution_count": 52,
   "id": "e9a76606-e332-43a0-97c8-1af92c4d5deb",
   "metadata": {},
   "outputs": [
    {
     "name": "stdout",
     "output_type": "stream",
     "text": [
      "Nombre de lignes qui ne respectent pas l'inégalité: 354\n",
      "Ces valeurs de fat_100g et de saturated-fat_100g ont été supprimés en conséquence.\n"
     ]
    }
   ],
   "source": [
    "counter = 0\n",
    "\n",
    "# Parcourez chaque ligne du dataframe\n",
    "for i, row in DataProduits.iterrows():\n",
    "    # Vérifiez si la condition est remplie pour la ligne actuelle\n",
    "    if row['saturated-fat_100g'] > row['fat_100g']:\n",
    "        # Si la condition n'est pas remplie, augmentez le compteur\n",
    "        counter += 1\n",
    "        # Rendez les valeurs fat et saturated-fat en NaN\n",
    "        DataProduits.at[i, 'fat_100g'] = float('NaN')\n",
    "        DataProduits.at[i, 'saturated-fat_100g'] = float('NaN')\n",
    "\n",
    "# Affichez le nombre de lignes qui ne respectent pas l'inégalité\n",
    "print(f\"Nombre de lignes qui ne respectent pas l'inégalité: {counter}\")\n",
    "print(\"Ces valeurs de fat_100g et de saturated-fat_100g ont été supprimés en conséquence.\")"
   ]
  },
  {
   "cell_type": "markdown",
   "id": "4f52d5d5-b38f-46a0-aa7a-226dd93c64d7",
   "metadata": {},
   "source": [
    "### Recherche des outliers"
   ]
  },
  {
   "cell_type": "markdown",
   "id": "a3042b11-bf74-42eb-8d2c-f520e7a5e650",
   "metadata": {},
   "source": [
    "#### Supression des valeurs impossibles"
   ]
  },
  {
   "cell_type": "markdown",
   "id": "6622057c-6a9a-49d7-8000-02c325573034",
   "metadata": {},
   "source": [
    "Les colonnes finissant par _100g doivent toutes posséder des valeurs comprises entre 0 et 100.  \n",
    "\n",
    "On a 2 exceptions cependant:  \n",
    "\n",
    "1) La colonne **energy_100g** qui mesure le nombre de calories pour 100g de produit (on ne considérera que les valeurs positives)\n",
    "2) La colonne **nutrition-score-fr_100g** qui donne une valeur numérique du nutriscore  \n",
    "> A : -15 à -1  \n",
    "B : 0 à 2  \n",
    "C : 3 à 10  \n",
    "D : 11 à 18  \n",
    "E : 19 à 40  \n",
    "\n"
   ]
  },
  {
   "cell_type": "markdown",
   "id": "ec7124f7-06a0-4906-88a1-d739fcfc9caf",
   "metadata": {},
   "source": [
    "On vérifie d'abord si les scores numériques \"nutrition-score-fr_100g\" sont en concordance avec les scores en lettres \"nutrition_grade_fr\"  \n",
    "Si c'est pas le cas, on supprime les 2 scores dans la ligne"
   ]
  },
  {
   "cell_type": "code",
   "execution_count": 53,
   "id": "09887965-c366-41fe-84c0-0fa0cfd33ac7",
   "metadata": {},
   "outputs": [],
   "source": [
    "# Fonction pour vérifier si les valeurs correspondent\n",
    "def verification_nutriscore(df):\n",
    "    modified_rows = []\n",
    "\n",
    "    def verify(row):\n",
    "        nonlocal modified_rows\n",
    "        \n",
    "        score = row['nutrition-score-fr_100g']\n",
    "        grade = row['nutrition_grade_fr']\n",
    "        \n",
    "        if pd.isna(score) or pd.isna(grade):\n",
    "            return row\n",
    "        else:\n",
    "            if ((-15 <= score <= -1) and grade == 'a') or \\\n",
    "               ((0 <= score <= 2) and grade == 'b') or \\\n",
    "               ((3 <= score <= 10) and grade == 'c') or \\\n",
    "               ((11 <= score <= 18) and grade == 'd') or \\\n",
    "               ((19 <= score <= 40) and grade == 'e'):\n",
    "                return row\n",
    "            else:\n",
    "                modified_rows.append((row.name, score, grade))\n",
    "                row['nutrition-score-fr_100g'] = np.nan\n",
    "                row['nutrition_grade_fr'] = np.nan\n",
    "                return row\n",
    "\n",
    "    df = df.apply(verify, axis=1)\n",
    "    \n",
    "    count = len(modified_rows)\n",
    "    print(f\"{count} lignes ont été modifiées.\")\n",
    "    if modified_rows:\n",
    "        example = modified_rows[0]\n",
    "        print(f\"Exemple de ligne modifiée : index {example[0]}, nutrition-score-fr_100g = {example[1]}, nutrition_grade_fr = {example[2]}\")\n",
    "    \n",
    "    return df\n"
   ]
  },
  {
   "cell_type": "code",
   "execution_count": 54,
   "id": "9e96b9fd-42ca-4fbe-b9af-845ba7314b8d",
   "metadata": {},
   "outputs": [
    {
     "name": "stdout",
     "output_type": "stream",
     "text": [
      "3272 lignes ont été modifiées.\n",
      "Exemple de ligne modifiée : index 226, nutrition-score-fr_100g = 13.0, nutrition_grade_fr = e\n"
     ]
    }
   ],
   "source": [
    "DataProduits = verification_nutriscore(DataProduits)"
   ]
  },
  {
   "cell_type": "markdown",
   "id": "10a55b0d-5b7e-4d7b-86af-5a62ee4cfb55",
   "metadata": {},
   "source": [
    "On vérifie ensuite les valeurs impossibles"
   ]
  },
  {
   "cell_type": "code",
   "execution_count": 55,
   "id": "5518261f-2045-41f8-9517-707ea06a1394",
   "metadata": {
    "tags": []
   },
   "outputs": [
    {
     "data": {
      "text/html": [
       "<div>\n",
       "<style scoped>\n",
       "    .dataframe tbody tr th:only-of-type {\n",
       "        vertical-align: middle;\n",
       "    }\n",
       "\n",
       "    .dataframe tbody tr th {\n",
       "        vertical-align: top;\n",
       "    }\n",
       "\n",
       "    .dataframe thead th {\n",
       "        text-align: right;\n",
       "    }\n",
       "</style>\n",
       "<table border=\"1\" class=\"dataframe\">\n",
       "  <thead>\n",
       "    <tr style=\"text-align: right;\">\n",
       "      <th></th>\n",
       "      <th>Nombre</th>\n",
       "      <th>Valeur Aléatoire</th>\n",
       "    </tr>\n",
       "  </thead>\n",
       "  <tbody>\n",
       "    <tr>\n",
       "      <th>energy_100g</th>\n",
       "      <td>0</td>\n",
       "      <td>NaN</td>\n",
       "    </tr>\n",
       "    <tr>\n",
       "      <th>fat_100g</th>\n",
       "      <td>4</td>\n",
       "      <td>105.00000</td>\n",
       "    </tr>\n",
       "    <tr>\n",
       "      <th>saturated-fat_100g</th>\n",
       "      <td>3</td>\n",
       "      <td>175.38000</td>\n",
       "    </tr>\n",
       "    <tr>\n",
       "      <th>carbohydrates_100g</th>\n",
       "      <td>19</td>\n",
       "      <td>103.50000</td>\n",
       "    </tr>\n",
       "    <tr>\n",
       "      <th>sugars_100g</th>\n",
       "      <td>19</td>\n",
       "      <td>-0.80000</td>\n",
       "    </tr>\n",
       "    <tr>\n",
       "      <th>fiber_100g</th>\n",
       "      <td>5</td>\n",
       "      <td>178.00000</td>\n",
       "    </tr>\n",
       "    <tr>\n",
       "      <th>proteins_100g</th>\n",
       "      <td>4</td>\n",
       "      <td>-3.57000</td>\n",
       "    </tr>\n",
       "    <tr>\n",
       "      <th>salt_100g</th>\n",
       "      <td>158</td>\n",
       "      <td>677.33418</td>\n",
       "    </tr>\n",
       "    <tr>\n",
       "      <th>sodium_100g</th>\n",
       "      <td>34</td>\n",
       "      <td>150.00000</td>\n",
       "    </tr>\n",
       "    <tr>\n",
       "      <th>nutrition-score-fr_100g</th>\n",
       "      <td>0</td>\n",
       "      <td>NaN</td>\n",
       "    </tr>\n",
       "  </tbody>\n",
       "</table>\n",
       "</div>"
      ],
      "text/plain": [
       "                         Nombre  Valeur Aléatoire\n",
       "energy_100g                   0               NaN\n",
       "fat_100g                      4         105.00000\n",
       "saturated-fat_100g            3         175.38000\n",
       "carbohydrates_100g           19         103.50000\n",
       "sugars_100g                  19          -0.80000\n",
       "fiber_100g                    5         178.00000\n",
       "proteins_100g                 4          -3.57000\n",
       "salt_100g                   158         677.33418\n",
       "sodium_100g                  34         150.00000\n",
       "nutrition-score-fr_100g       0               NaN"
      ]
     },
     "execution_count": 55,
     "metadata": {},
     "output_type": "execute_result"
    }
   ],
   "source": [
    "# 1) Récupérer toutes les colonnes finissant par _100g (sauf energy_100g)\n",
    "cols_100g = [col for col in DataProduits.columns if col.endswith('_100g')]\n",
    "\n",
    "# Initialisez un dictionnaire pour stocker les informations\n",
    "results = {'Colonne': [], 'Nombre': [], 'Valeur Aléatoire': []}\n",
    "\n",
    "# 2) Donner pour chacune des colonnes le nombre de lignes dont les valeurs ne sont pas comprises dans la fourchette [0, 100] et sélectionner une valeur au hasard respectant les conditions\n",
    "for col in cols_100g:\n",
    "    if col == \"energy_100g\":\n",
    "        filtered_data = DataProduits[(DataProduits[col] < 0)]\n",
    "    elif col == \"nutrition-score-fr_100g\":\n",
    "        filtered_data = DataProduits[(DataProduits[col] < -15) | (DataProduits[col] > 40)]\n",
    "    else:\n",
    "        filtered_data = DataProduits[(DataProduits[col] < 0) | (DataProduits[col] > 100)]\n",
    "\n",
    "    count = len(filtered_data)\n",
    "    random_value = filtered_data.sample(1)[col].iloc[0] if not filtered_data.empty else None\n",
    "\n",
    "    # Ajoutez les informations collectées au dictionnaire\n",
    "    results['Colonne'].append(col)\n",
    "    results['Nombre'].append(count)\n",
    "    results['Valeur Aléatoire'].append(random_value)\n",
    "\n",
    "# Convertir le dictionnaire en dataframe\n",
    "df = pd.DataFrame(results)\n",
    "\n",
    "# Définir la colonne \"colonne\" comme index\n",
    "df.set_index('Colonne', inplace=True)\n",
    "\n",
    "# Enlever le nom de l'index\n",
    "df.index.name = None\n",
    "\n",
    "# Afficher le dataframe\n",
    "df\n"
   ]
  },
  {
   "cell_type": "code",
   "execution_count": 56,
   "id": "0d4e1eec-83ca-455b-9a7b-07ef2ff6c8a8",
   "metadata": {},
   "outputs": [
    {
     "name": "stdout",
     "output_type": "stream",
     "text": [
      "Ces valeurs impossibles ont été supprimés\n"
     ]
    }
   ],
   "source": [
    "for col in cols_100g:\n",
    "    if col == \"energy_100g\":\n",
    "        DataProduits[col] = DataProduits[col].apply(lambda x: np.nan if x < 0 else x)\n",
    "    elif col == \"nutrition-score-fr_100g\":\n",
    "        DataProduits[col] = DataProduits[col].apply(lambda x: np.nan if x < -15 or x > 40 else x)\n",
    "    else:\n",
    "        DataProduits[col] = DataProduits[col].apply(lambda x: np.nan if x < 0 or x > 100 else x)\n",
    "        \n",
    "print(\"Ces valeurs impossibles ont été supprimés\")"
   ]
  },
  {
   "cell_type": "markdown",
   "id": "f67aa20f-9b85-4755-ae56-2069581b73ea",
   "metadata": {},
   "source": [
    "#### Méthode des écarts interquartiles (IQR)"
   ]
  },
  {
   "cell_type": "code",
   "execution_count": 57,
   "id": "0164b453-5ec2-4a66-ad38-6b607c9a1434",
   "metadata": {},
   "outputs": [
    {
     "data": {
      "text/html": [
       "<div>\n",
       "<style scoped>\n",
       "    .dataframe tbody tr th:only-of-type {\n",
       "        vertical-align: middle;\n",
       "    }\n",
       "\n",
       "    .dataframe tbody tr th {\n",
       "        vertical-align: top;\n",
       "    }\n",
       "\n",
       "    .dataframe thead th {\n",
       "        text-align: right;\n",
       "    }\n",
       "</style>\n",
       "<table border=\"1\" class=\"dataframe\">\n",
       "  <thead>\n",
       "    <tr style=\"text-align: right;\">\n",
       "      <th></th>\n",
       "      <th>Nombre d'outliers</th>\n",
       "      <th>Pourcentage</th>\n",
       "      <th>Minimum</th>\n",
       "    </tr>\n",
       "  </thead>\n",
       "  <tbody>\n",
       "    <tr>\n",
       "      <th>energy_100g</th>\n",
       "      <td>1088</td>\n",
       "      <td>0.41</td>\n",
       "      <td>3603</td>\n",
       "    </tr>\n",
       "    <tr>\n",
       "      <th>fat_100g</th>\n",
       "      <td>8238</td>\n",
       "      <td>3.11</td>\n",
       "      <td>51.03</td>\n",
       "    </tr>\n",
       "    <tr>\n",
       "      <th>saturated-fat_100g</th>\n",
       "      <td>17135</td>\n",
       "      <td>6.47</td>\n",
       "      <td>17.86</td>\n",
       "    </tr>\n",
       "    <tr>\n",
       "      <th>carbohydrates_100g</th>\n",
       "      <td>0</td>\n",
       "      <td>0</td>\n",
       "      <td>nan</td>\n",
       "    </tr>\n",
       "    <tr>\n",
       "      <th>sugars_100g</th>\n",
       "      <td>15207</td>\n",
       "      <td>5.75</td>\n",
       "      <td>58.18</td>\n",
       "    </tr>\n",
       "    <tr>\n",
       "      <th>fiber_100g</th>\n",
       "      <td>14123</td>\n",
       "      <td>5.34</td>\n",
       "      <td>9.09</td>\n",
       "    </tr>\n",
       "    <tr>\n",
       "      <th>proteins_100g</th>\n",
       "      <td>12626</td>\n",
       "      <td>4.77</td>\n",
       "      <td>23.86</td>\n",
       "    </tr>\n",
       "    <tr>\n",
       "      <th>salt_100g</th>\n",
       "      <td>16119</td>\n",
       "      <td>6.09</td>\n",
       "      <td>3.37</td>\n",
       "    </tr>\n",
       "    <tr>\n",
       "      <th>sodium_100g</th>\n",
       "      <td>16228</td>\n",
       "      <td>6.13</td>\n",
       "      <td>1.33</td>\n",
       "    </tr>\n",
       "    <tr>\n",
       "      <th>nutrition-score-fr_100g</th>\n",
       "      <td>4</td>\n",
       "      <td>0.0015</td>\n",
       "      <td>40</td>\n",
       "    </tr>\n",
       "  </tbody>\n",
       "</table>\n",
       "</div>"
      ],
      "text/plain": [
       "                         Nombre d'outliers Pourcentage Minimum\n",
       "energy_100g                           1088        0.41    3603\n",
       "fat_100g                              8238        3.11   51.03\n",
       "saturated-fat_100g                   17135        6.47   17.86\n",
       "carbohydrates_100g                       0           0     nan\n",
       "sugars_100g                          15207        5.75   58.18\n",
       "fiber_100g                           14123        5.34    9.09\n",
       "proteins_100g                        12626        4.77   23.86\n",
       "salt_100g                            16119        6.09    3.37\n",
       "sodium_100g                          16228        6.13    1.33\n",
       "nutrition-score-fr_100g                  4      0.0015      40"
      ]
     },
     "execution_count": 57,
     "metadata": {},
     "output_type": "execute_result"
    }
   ],
   "source": [
    "df_results = detecter_et_analyser_outliers_iqr(DataProduits)\n",
    "format_number(df_results)"
   ]
  },
  {
   "cell_type": "code",
   "execution_count": 58,
   "id": "54bb5ffe-dc08-461a-8dd1-9784b9d28b98",
   "metadata": {},
   "outputs": [
    {
     "data": {
      "image/png": "[encoded data removed]",
      "text/plain": [
       "<Figure size 864x288 with 2 Axes>"
      ]
     },
     "metadata": {
      "needs_background": "light"
     },
     "output_type": "display_data"
    },
    {
     "data": {
      "image/png": "[encoded data removed]",
      "text/plain": [
       "<Figure size 864x288 with 2 Axes>"
      ]
     },
     "metadata": {
      "needs_background": "light"
     },
     "output_type": "display_data"
    },
    {
     "data": {
      "text/html": [
       "<div>\n",
       "<style scoped>\n",
       "    .dataframe tbody tr th:only-of-type {\n",
       "        vertical-align: middle;\n",
       "    }\n",
       "\n",
       "    .dataframe tbody tr th {\n",
       "        vertical-align: top;\n",
       "    }\n",
       "\n",
       "    .dataframe thead th {\n",
       "        text-align: right;\n",
       "    }\n",
       "</style>\n",
       "<table border=\"1\" class=\"dataframe\">\n",
       "  <thead>\n",
       "    <tr style=\"text-align: right;\">\n",
       "      <th></th>\n",
       "      <th>Avant supression outliers</th>\n",
       "      <th>Après supression outliers</th>\n",
       "    </tr>\n",
       "  </thead>\n",
       "  <tbody>\n",
       "    <tr>\n",
       "      <th>Nombre</th>\n",
       "      <td>2.589380e+05</td>\n",
       "      <td>257850.000000</td>\n",
       "    </tr>\n",
       "    <tr>\n",
       "      <th>Moyenne</th>\n",
       "      <td>1.151506e+03</td>\n",
       "      <td>1123.675948</td>\n",
       "    </tr>\n",
       "    <tr>\n",
       "      <th>Médiane</th>\n",
       "      <td>1.113000e+03</td>\n",
       "      <td>1105.000000</td>\n",
       "    </tr>\n",
       "    <tr>\n",
       "      <th>Écart type</th>\n",
       "      <td>6.473322e+03</td>\n",
       "      <td>778.204656</td>\n",
       "    </tr>\n",
       "    <tr>\n",
       "      <th>Minimum</th>\n",
       "      <td>0.000000e+00</td>\n",
       "      <td>0.000000</td>\n",
       "    </tr>\n",
       "    <tr>\n",
       "      <th>Maximum</th>\n",
       "      <td>3.251373e+06</td>\n",
       "      <td>3598.000000</td>\n",
       "    </tr>\n",
       "  </tbody>\n",
       "</table>\n",
       "</div>"
      ],
      "text/plain": [
       "            Avant supression outliers  Après supression outliers\n",
       "Nombre                   2.589380e+05              257850.000000\n",
       "Moyenne                  1.151506e+03                1123.675948\n",
       "Médiane                  1.113000e+03                1105.000000\n",
       "Écart type               6.473322e+03                 778.204656\n",
       "Minimum                  0.000000e+00                   0.000000\n",
       "Maximum                  3.251373e+06                3598.000000"
      ]
     },
     "execution_count": 58,
     "metadata": {},
     "output_type": "execute_result"
    }
   ],
   "source": [
    "colonne = \"energy_100g\"\n",
    "# Utilisez la colonne 'salt_100g' de votre DataFrame\n",
    "df = DataProduits[[colonne]]\n",
    "\n",
    "# Calculez le Q1, Q3 et l'intervalle interquartile (IQR)\n",
    "Q1 = df.quantile(0.25)\n",
    "Q3 = df.quantile(0.75)\n",
    "IQR = Q3 - Q1\n",
    "\n",
    "# Identifiez les valeurs aberrantes\n",
    "outliers = (df < (Q1 - 1.5 * IQR)) | (df > (Q3 + 1.5 * IQR))\n",
    "\n",
    "# Supprimez les valeurs aberrantes\n",
    "df_no_outliers = df[~outliers.any(axis=1)]\n",
    "\n",
    "# Affichez les boxplot avant et après la suppression des valeurs aberrantes\n",
    "plt.figure(figsize=(12, 4))\n",
    "plt.suptitle(f\"Boite a moustache pour la colonne {colonne}\")\n",
    "\n",
    "plt.subplot(1, 2, 1)\n",
    "sns.boxplot(data=df)\n",
    "plt.title(\"Avant suppression des valeurs aberrantes\")\n",
    "plt.xlabel(\"Index\")\n",
    "plt.ylabel(colonne)\n",
    "plt.xticks([0], [\"\"])  # Personnalisez l'axe des abscisses avec uniquement \"Index\"\n",
    "\n",
    "plt.subplot(1, 2, 2)\n",
    "sns.boxplot(data=df_no_outliers)\n",
    "plt.title(\"Après suppression des valeurs aberrantes\")\n",
    "plt.xlabel(\"Index\")\n",
    "plt.ylabel(colonne)\n",
    "plt.xticks([0], [\"\"])  # Personnalisez l'axe des abscisses avec uniquement \"Index\"\n",
    "\n",
    "plt.subplots_adjust(top=0.8)\n",
    "plt.show()\n",
    "\n",
    "# Affichez les diagrammes de dispersion avant et après la suppression des valeurs aberrantes\n",
    "plt.figure(figsize=(12, 4))\n",
    "plt.suptitle(f\"Diagrammes de dispersion pour la colonne {colonne}\")\n",
    "\n",
    "plt.subplot(1, 2, 1)\n",
    "plt.scatter(range(len(df)), df[colonne])\n",
    "plt.title(\"Avant suppression des valeurs aberrantes\")\n",
    "plt.xlabel(\"Index\")\n",
    "plt.ylabel(colonne)\n",
    "\n",
    "plt.subplot(1, 2, 2)\n",
    "plt.scatter(range(len(df_no_outliers)), df_no_outliers[colonne])\n",
    "plt.title(\"Après suppression des valeurs aberrantes\")\n",
    "plt.xlabel(\"Index\")\n",
    "plt.ylabel(colonne)\n",
    "\n",
    "plt.subplots_adjust(top=0.8)\n",
    "\n",
    "plt.show()\n",
    "\n",
    "# Calculer la médiane\n",
    "median_df = df.median()\n",
    "median_df_no_outliers = df_no_outliers.median()\n",
    "\n",
    "# Ajouter la médiane aux sorties de df.describe() et df_no_outliers.describe()\n",
    "median_df = pd.Series(median_df, name='median').to_frame().T\n",
    "median_df_no_outliers = pd.Series(median_df_no_outliers, name='median').to_frame().T\n",
    "\n",
    "describe_df = pd.concat([df.describe(), median_df])\n",
    "describe_df_no_outliers = pd.concat([df_no_outliers.describe(), median_df_no_outliers])\n",
    "\n",
    "# Concaténation des sorties de describe_df et describe_df_no_outliers\n",
    "result = pd.concat([describe_df, describe_df_no_outliers], axis=1)\n",
    "\n",
    "# Renommer les colonnes pour différencier les sorties\n",
    "result.columns = ['Avant supression outliers', 'Après supression outliers']\n",
    "\n",
    "# Supprimer les lignes '25%', '50%' et '75%'\n",
    "result = result.drop(['25%', '50%', '75%'])\n",
    "\n",
    "# Renommer les index\n",
    "result = result.rename(index={'count': 'Nombre',\n",
    "                               'mean': 'Moyenne',\n",
    "                               'std': 'Écart type',\n",
    "                               'min': 'Minimum',\n",
    "                               'max': 'Maximum',\n",
    "                               'median': 'Médiane'})\n",
    "\n",
    "# Réordonner les lignes pour afficher 'Médiane' après 'Moyenne'\n",
    "result = result.reindex(['Nombre', 'Moyenne', 'Médiane', 'Écart type', 'Minimum', 'Maximum'])\n",
    "\n",
    "result\n"
   ]
  },
  {
   "cell_type": "markdown",
   "id": "6640256c-93fc-45d6-a189-de4b6fac567b",
   "metadata": {},
   "source": [
    "On va supprimer les outliers de energy_100g (car il ne possède pas techniquement de limites hautes)"
   ]
  },
  {
   "cell_type": "code",
   "execution_count": 59,
   "id": "c248a8cc-1bf4-4ffc-8a9b-3def0f2c49e1",
   "metadata": {},
   "outputs": [],
   "source": [
    "def remove_outliers_iqr(df, column, k=1.5):\n",
    "    Q1 = df[column].quantile(0.25)\n",
    "    Q3 = df[column].quantile(0.75)\n",
    "    IQR = Q3 - Q1\n",
    "    mask = (df[column] < (Q1 - k * IQR)) | (df[column] > (Q3 + k * IQR))\n",
    "    df = df[~mask]\n",
    "    return df"
   ]
  },
  {
   "cell_type": "code",
   "execution_count": 60,
   "id": "915a6a2c-02fa-48eb-aaab-79ac6560edc8",
   "metadata": {},
   "outputs": [],
   "source": [
    "DataProduits = remove_outliers_iqr(DataProduits, \"energy_100g\")"
   ]
  },
  {
   "cell_type": "markdown",
   "id": "92a040af-5892-4345-9d7f-4fe2b44d3e02",
   "metadata": {},
   "source": [
    "Comme salt_100g est plus simple à comprendre que sodium_100g, on va supprimer la colonne sodium_100g"
   ]
  },
  {
   "cell_type": "code",
   "execution_count": 61,
   "id": "6441abbb-c067-44ac-abd6-415640114a3d",
   "metadata": {},
   "outputs": [],
   "source": [
    "DataProduits.drop(\"sodium_100g\", axis=1, inplace=True)"
   ]
  },
  {
   "cell_type": "markdown",
   "id": "a4ddb75d-ce4c-4393-a41b-9d2d0f4e7cf1",
   "metadata": {},
   "source": [
    "#### Remplissage des NaN"
   ]
  },
  {
   "cell_type": "markdown",
   "id": "f206ad7b-798e-4125-8a0f-4ed7ec9b9a11",
   "metadata": {},
   "source": [
    "#### Test de plusieurs techniques d'imputation"
   ]
  },
  {
   "cell_type": "markdown",
   "id": "17c06be9-39ea-44fa-8e6c-50974e564007",
   "metadata": {},
   "source": [
    "Nous allons récupérer un échantillon du dataframe pour commencer nos tests"
   ]
  },
  {
   "cell_type": "code",
   "execution_count": 62,
   "id": "356ad1cc-a043-437d-bf0d-6a5dbb322500",
   "metadata": {},
   "outputs": [
    {
     "name": "stdout",
     "output_type": "stream",
     "text": [
      "L'échantillon est suffisamment représentatif de l'ensemble de données après 15 tentatives.\n"
     ]
    },
    {
     "data": {
      "text/html": [
       "<style  type=\"text/css\" >\n",
       "#T_2e812_row0_col1,#T_2e812_row0_col2,#T_2e812_row0_col3,#T_2e812_row0_col4,#T_2e812_row0_col5,#T_2e812_row1_col1,#T_2e812_row1_col2,#T_2e812_row1_col3,#T_2e812_row1_col4,#T_2e812_row1_col5,#T_2e812_row2_col1,#T_2e812_row2_col2,#T_2e812_row2_col3,#T_2e812_row2_col4,#T_2e812_row2_col5,#T_2e812_row3_col1,#T_2e812_row3_col2,#T_2e812_row3_col3,#T_2e812_row3_col4,#T_2e812_row3_col5,#T_2e812_row4_col1,#T_2e812_row4_col2,#T_2e812_row4_col3,#T_2e812_row4_col4,#T_2e812_row4_col5,#T_2e812_row5_col1,#T_2e812_row5_col2,#T_2e812_row5_col3,#T_2e812_row5_col4,#T_2e812_row5_col5,#T_2e812_row6_col1,#T_2e812_row6_col2,#T_2e812_row6_col3,#T_2e812_row6_col4,#T_2e812_row6_col5,#T_2e812_row7_col1,#T_2e812_row7_col2,#T_2e812_row7_col3,#T_2e812_row7_col4,#T_2e812_row7_col5,#T_2e812_row8_col1,#T_2e812_row8_col2,#T_2e812_row8_col3,#T_2e812_row8_col4,#T_2e812_row8_col5{\n",
       "            background-color:  green;\n",
       "        }</style><table id=\"T_2e812_\" ><thead>    <tr>        <th class=\"blank level0\" ></th>        <th class=\"col_heading level0 col0\" >Variable</th>        <th class=\"col_heading level0 col1\" >Diff_Moyenne_Relative</th>        <th class=\"col_heading level0 col2\" >Diff_Mediane_Relative</th>        <th class=\"col_heading level0 col3\" >Diff_EcartType_Relative</th>        <th class=\"col_heading level0 col4\" >Diff_Skewness_Relative</th>        <th class=\"col_heading level0 col5\" >Diff_Kurtosis_Relative</th>    </tr></thead><tbody>\n",
       "                <tr>\n",
       "                        <th id=\"T_2e812_level0_row0\" class=\"row_heading level0 row0\" >0</th>\n",
       "                        <td id=\"T_2e812_row0_col0\" class=\"data row0 col0\" >energy_100g</td>\n",
       "                        <td id=\"T_2e812_row0_col1\" class=\"data row0 col1\" >0.068148</td>\n",
       "                        <td id=\"T_2e812_row0_col2\" class=\"data row0 col2\" >0.180995</td>\n",
       "                        <td id=\"T_2e812_row0_col3\" class=\"data row0 col3\" >0.217054</td>\n",
       "                        <td id=\"T_2e812_row0_col4\" class=\"data row0 col4\" >0.598544</td>\n",
       "                        <td id=\"T_2e812_row0_col5\" class=\"data row0 col5\" >1.385050</td>\n",
       "            </tr>\n",
       "            <tr>\n",
       "                        <th id=\"T_2e812_level0_row1\" class=\"row_heading level0 row1\" >1</th>\n",
       "                        <td id=\"T_2e812_row1_col0\" class=\"data row1 col0\" >fat_100g</td>\n",
       "                        <td id=\"T_2e812_row1_col1\" class=\"data row1 col1\" >0.178042</td>\n",
       "                        <td id=\"T_2e812_row1_col2\" class=\"data row1 col2\" >0.000000</td>\n",
       "                        <td id=\"T_2e812_row1_col3\" class=\"data row1 col3\" >0.441326</td>\n",
       "                        <td id=\"T_2e812_row1_col4\" class=\"data row1 col4\" >0.786103</td>\n",
       "                        <td id=\"T_2e812_row1_col5\" class=\"data row1 col5\" >1.412841</td>\n",
       "            </tr>\n",
       "            <tr>\n",
       "                        <th id=\"T_2e812_level0_row2\" class=\"row_heading level0 row2\" >2</th>\n",
       "                        <td id=\"T_2e812_row2_col0\" class=\"data row2 col0\" >saturated-fat_100g</td>\n",
       "                        <td id=\"T_2e812_row2_col1\" class=\"data row2 col1\" >0.325920</td>\n",
       "                        <td id=\"T_2e812_row2_col2\" class=\"data row2 col2\" >0.000000</td>\n",
       "                        <td id=\"T_2e812_row2_col3\" class=\"data row2 col3\" >0.512438</td>\n",
       "                        <td id=\"T_2e812_row2_col4\" class=\"data row2 col4\" >0.083247</td>\n",
       "                        <td id=\"T_2e812_row2_col5\" class=\"data row2 col5\" >0.351683</td>\n",
       "            </tr>\n",
       "            <tr>\n",
       "                        <th id=\"T_2e812_level0_row3\" class=\"row_heading level0 row3\" >3</th>\n",
       "                        <td id=\"T_2e812_row3_col0\" class=\"data row3 col0\" >carbohydrates_100g</td>\n",
       "                        <td id=\"T_2e812_row3_col1\" class=\"data row3 col1\" >0.193499</td>\n",
       "                        <td id=\"T_2e812_row3_col2\" class=\"data row3 col2\" >0.000000</td>\n",
       "                        <td id=\"T_2e812_row3_col3\" class=\"data row3 col3\" >0.061872</td>\n",
       "                        <td id=\"T_2e812_row3_col4\" class=\"data row3 col4\" >1.075225</td>\n",
       "                        <td id=\"T_2e812_row3_col5\" class=\"data row3 col5\" >0.751948</td>\n",
       "            </tr>\n",
       "            <tr>\n",
       "                        <th id=\"T_2e812_level0_row4\" class=\"row_heading level0 row4\" >4</th>\n",
       "                        <td id=\"T_2e812_row4_col0\" class=\"data row4 col0\" >sugars_100g</td>\n",
       "                        <td id=\"T_2e812_row4_col1\" class=\"data row4 col1\" >0.321923</td>\n",
       "                        <td id=\"T_2e812_row4_col2\" class=\"data row4 col2\" >0.000000</td>\n",
       "                        <td id=\"T_2e812_row4_col3\" class=\"data row4 col3\" >0.335928</td>\n",
       "                        <td id=\"T_2e812_row4_col4\" class=\"data row4 col4\" >0.158482</td>\n",
       "                        <td id=\"T_2e812_row4_col5\" class=\"data row4 col5\" >0.867664</td>\n",
       "            </tr>\n",
       "            <tr>\n",
       "                        <th id=\"T_2e812_level0_row5\" class=\"row_heading level0 row5\" >5</th>\n",
       "                        <td id=\"T_2e812_row5_col0\" class=\"data row5 col0\" >fiber_100g</td>\n",
       "                        <td id=\"T_2e812_row5_col1\" class=\"data row5 col1\" >0.820654</td>\n",
       "                        <td id=\"T_2e812_row5_col2\" class=\"data row5 col2\" >0.000000</td>\n",
       "                        <td id=\"T_2e812_row5_col3\" class=\"data row5 col3\" >0.888532</td>\n",
       "                        <td id=\"T_2e812_row5_col4\" class=\"data row5 col4\" >1.006231</td>\n",
       "                        <td id=\"T_2e812_row5_col5\" class=\"data row5 col5\" >3.033477</td>\n",
       "            </tr>\n",
       "            <tr>\n",
       "                        <th id=\"T_2e812_level0_row6\" class=\"row_heading level0 row6\" >6</th>\n",
       "                        <td id=\"T_2e812_row6_col0\" class=\"data row6 col0\" >proteins_100g</td>\n",
       "                        <td id=\"T_2e812_row6_col1\" class=\"data row6 col1\" >0.789617</td>\n",
       "                        <td id=\"T_2e812_row6_col2\" class=\"data row6 col2\" >2.040816</td>\n",
       "                        <td id=\"T_2e812_row6_col3\" class=\"data row6 col3\" >0.829037</td>\n",
       "                        <td id=\"T_2e812_row6_col4\" class=\"data row6 col4\" >1.222343</td>\n",
       "                        <td id=\"T_2e812_row6_col5\" class=\"data row6 col5\" >3.366716</td>\n",
       "            </tr>\n",
       "            <tr>\n",
       "                        <th id=\"T_2e812_level0_row7\" class=\"row_heading level0 row7\" >7</th>\n",
       "                        <td id=\"T_2e812_row7_col0\" class=\"data row7 col0\" >salt_100g</td>\n",
       "                        <td id=\"T_2e812_row7_col1\" class=\"data row7 col1\" >0.504571</td>\n",
       "                        <td id=\"T_2e812_row7_col2\" class=\"data row7 col2\" >0.330000</td>\n",
       "                        <td id=\"T_2e812_row7_col3\" class=\"data row7 col3\" >0.851588</td>\n",
       "                        <td id=\"T_2e812_row7_col4\" class=\"data row7 col4\" >1.208916</td>\n",
       "                        <td id=\"T_2e812_row7_col5\" class=\"data row7 col5\" >2.375890</td>\n",
       "            </tr>\n",
       "            <tr>\n",
       "                        <th id=\"T_2e812_level0_row8\" class=\"row_heading level0 row8\" >8</th>\n",
       "                        <td id=\"T_2e812_row8_col0\" class=\"data row8 col0\" >nutrition-score-fr_100g</td>\n",
       "                        <td id=\"T_2e812_row8_col1\" class=\"data row8 col1\" >0.126243</td>\n",
       "                        <td id=\"T_2e812_row8_col2\" class=\"data row8 col2\" >0.000000</td>\n",
       "                        <td id=\"T_2e812_row8_col3\" class=\"data row8 col3\" >0.071195</td>\n",
       "                        <td id=\"T_2e812_row8_col4\" class=\"data row8 col4\" >1.444901</td>\n",
       "                        <td id=\"T_2e812_row8_col5\" class=\"data row8 col5\" >0.500703</td>\n",
       "            </tr>\n",
       "    </tbody></table>"
      ],
      "text/plain": [
       "<pandas.io.formats.style.Styler at 0x2329ae16130>"
      ]
     },
     "metadata": {},
     "output_type": "display_data"
    },
    {
     "name": "stdout",
     "output_type": "stream",
     "text": [
      "L'échantillon est suffisamment représentatif de l'ensemble de données après 15 tentatives.\n"
     ]
    },
    {
     "data": {
      "image/png": "[encoded data removed]",
      "text/plain": [
       "<Figure size 720x432 with 1 Axes>"
      ]
     },
     "metadata": {
      "needs_background": "light"
     },
     "output_type": "display_data"
    }
   ],
   "source": [
    "sample = trouver_le_bon_sample(DataProduits, proportion=30, threshold=5, tentatives = 50)"
   ]
  },
  {
   "cell_type": "markdown",
   "id": "90dedaa4-f3d7-4919-959d-7aad1f69596d",
   "metadata": {},
   "source": [
    "A partir de ce sample on va créer un sample_non_nan (sample imputé de ses nan) et un sample_nan (sample_non_nan auquel on rajoute des nan)"
   ]
  },
  {
   "cell_type": "code",
   "execution_count": 63,
   "id": "9ae2cd3a-63a0-429e-b191-2738c104f9eb",
   "metadata": {},
   "outputs": [
    {
     "data": {
      "text/html": [
       "<div>\n",
       "<style scoped>\n",
       "    .dataframe tbody tr th:only-of-type {\n",
       "        vertical-align: middle;\n",
       "    }\n",
       "\n",
       "    .dataframe tbody tr th {\n",
       "        vertical-align: top;\n",
       "    }\n",
       "\n",
       "    .dataframe thead th {\n",
       "        text-align: right;\n",
       "    }\n",
       "</style>\n",
       "<table border=\"1\" class=\"dataframe\">\n",
       "  <thead>\n",
       "    <tr style=\"text-align: right;\">\n",
       "      <th></th>\n",
       "      <th>DataFrame</th>\n",
       "      <th>sample_nan</th>\n",
       "    </tr>\n",
       "  </thead>\n",
       "  <tbody>\n",
       "    <tr>\n",
       "      <th>energy_100g</th>\n",
       "      <td>2.162035</td>\n",
       "      <td>2.187058</td>\n",
       "    </tr>\n",
       "    <tr>\n",
       "      <th>fat_100g</th>\n",
       "      <td>8.748691</td>\n",
       "      <td>8.853469</td>\n",
       "    </tr>\n",
       "    <tr>\n",
       "      <th>saturated-fat_100g</th>\n",
       "      <td>13.649506</td>\n",
       "      <td>13.715510</td>\n",
       "    </tr>\n",
       "    <tr>\n",
       "      <th>carbohydrates_100g</th>\n",
       "      <td>8.717577</td>\n",
       "      <td>8.581761</td>\n",
       "    </tr>\n",
       "    <tr>\n",
       "      <th>sugars_100g</th>\n",
       "      <td>7.803512</td>\n",
       "      <td>7.858482</td>\n",
       "    </tr>\n",
       "    <tr>\n",
       "      <th>fiber_100g</th>\n",
       "      <td>24.183071</td>\n",
       "      <td>24.292985</td>\n",
       "    </tr>\n",
       "    <tr>\n",
       "      <th>proteins_100g</th>\n",
       "      <td>2.615842</td>\n",
       "      <td>2.583139</td>\n",
       "    </tr>\n",
       "    <tr>\n",
       "      <th>salt_100g</th>\n",
       "      <td>4.312307</td>\n",
       "      <td>4.291837</td>\n",
       "    </tr>\n",
       "    <tr>\n",
       "      <th>nutrition-score-fr_100g</th>\n",
       "      <td>17.799414</td>\n",
       "      <td>17.737553</td>\n",
       "    </tr>\n",
       "  </tbody>\n",
       "</table>\n",
       "</div>"
      ],
      "text/plain": [
       "                         DataFrame  sample_nan\n",
       "energy_100g               2.162035    2.187058\n",
       "fat_100g                  8.748691    8.853469\n",
       "saturated-fat_100g       13.649506   13.715510\n",
       "carbohydrates_100g        8.717577    8.581761\n",
       "sugars_100g               7.803512    7.858482\n",
       "fiber_100g               24.183071   24.292985\n",
       "proteins_100g             2.615842    2.583139\n",
       "salt_100g                 4.312307    4.291837\n",
       "nutrition-score-fr_100g  17.799414   17.737553"
      ]
     },
     "metadata": {},
     "output_type": "display_data"
    }
   ],
   "source": [
    "sample_nan, sample_non_nan = creation_samples_simulations(DataProduits, sample)"
   ]
  },
  {
   "cell_type": "markdown",
   "id": "f88177c8-be07-4831-8601-bdfd517e4a5c",
   "metadata": {},
   "source": [
    "On teste après plusieurs techniques d'imputations"
   ]
  },
  {
   "cell_type": "code",
   "execution_count": 64,
   "id": "caf50818-24ad-423d-8338-955071f43c64",
   "metadata": {},
   "outputs": [
    {
     "name": "stdout",
     "output_type": "stream",
     "text": [
      "Temps écoulé FIT: 0.00 secondes\n",
      "Temps écoulé IMPUTATION: 86.38 secondes\n"
     ]
    },
    {
     "data": {
      "text/html": [
       "<div>\n",
       "<style scoped>\n",
       "    .dataframe tbody tr th:only-of-type {\n",
       "        vertical-align: middle;\n",
       "    }\n",
       "\n",
       "    .dataframe tbody tr th {\n",
       "        vertical-align: top;\n",
       "    }\n",
       "\n",
       "    .dataframe thead th {\n",
       "        text-align: right;\n",
       "    }\n",
       "</style>\n",
       "<table border=\"1\" class=\"dataframe\">\n",
       "  <thead>\n",
       "    <tr style=\"text-align: right;\">\n",
       "      <th></th>\n",
       "      <th>Column</th>\n",
       "      <th>R²</th>\n",
       "      <th>RMSE</th>\n",
       "      <th>MAE</th>\n",
       "    </tr>\n",
       "  </thead>\n",
       "  <tbody>\n",
       "    <tr>\n",
       "      <th>0</th>\n",
       "      <td>energy_100g</td>\n",
       "      <td>0.995930</td>\n",
       "      <td>47.343481</td>\n",
       "      <td>4.778619</td>\n",
       "    </tr>\n",
       "    <tr>\n",
       "      <th>1</th>\n",
       "      <td>fat_100g</td>\n",
       "      <td>0.984028</td>\n",
       "      <td>1.933156</td>\n",
       "      <td>0.283265</td>\n",
       "    </tr>\n",
       "    <tr>\n",
       "      <th>2</th>\n",
       "      <td>saturated-fat_100g</td>\n",
       "      <td>0.961177</td>\n",
       "      <td>1.318533</td>\n",
       "      <td>0.212881</td>\n",
       "    </tr>\n",
       "    <tr>\n",
       "      <th>3</th>\n",
       "      <td>carbohydrates_100g</td>\n",
       "      <td>0.980249</td>\n",
       "      <td>3.956353</td>\n",
       "      <td>0.716499</td>\n",
       "    </tr>\n",
       "    <tr>\n",
       "      <th>4</th>\n",
       "      <td>sugars_100g</td>\n",
       "      <td>0.978186</td>\n",
       "      <td>2.871450</td>\n",
       "      <td>0.453623</td>\n",
       "    </tr>\n",
       "    <tr>\n",
       "      <th>5</th>\n",
       "      <td>fiber_100g</td>\n",
       "      <td>0.875999</td>\n",
       "      <td>1.525918</td>\n",
       "      <td>0.355032</td>\n",
       "    </tr>\n",
       "    <tr>\n",
       "      <th>6</th>\n",
       "      <td>proteins_100g</td>\n",
       "      <td>0.988747</td>\n",
       "      <td>0.848121</td>\n",
       "      <td>0.075280</td>\n",
       "    </tr>\n",
       "    <tr>\n",
       "      <th>7</th>\n",
       "      <td>salt_100g</td>\n",
       "      <td>0.950352</td>\n",
       "      <td>0.868072</td>\n",
       "      <td>0.038919</td>\n",
       "    </tr>\n",
       "    <tr>\n",
       "      <th>8</th>\n",
       "      <td>nutrition-score-fr_100g</td>\n",
       "      <td>0.969032</td>\n",
       "      <td>1.597882</td>\n",
       "      <td>0.453538</td>\n",
       "    </tr>\n",
       "  </tbody>\n",
       "</table>\n",
       "</div>"
      ],
      "text/plain": [
       "                    Column        R²       RMSE       MAE\n",
       "0              energy_100g  0.995930  47.343481  4.778619\n",
       "1                 fat_100g  0.984028   1.933156  0.283265\n",
       "2       saturated-fat_100g  0.961177   1.318533  0.212881\n",
       "3       carbohydrates_100g  0.980249   3.956353  0.716499\n",
       "4              sugars_100g  0.978186   2.871450  0.453623\n",
       "5               fiber_100g  0.875999   1.525918  0.355032\n",
       "6            proteins_100g  0.988747   0.848121  0.075280\n",
       "7                salt_100g  0.950352   0.868072  0.038919\n",
       "8  nutrition-score-fr_100g  0.969032   1.597882  0.453538"
      ]
     },
     "metadata": {},
     "output_type": "display_data"
    }
   ],
   "source": [
    "imputer_KNN, evaluation_metrics_KNN = evaluation_imputation(sample_nan, sample_non_nan, imputer = \"KNNImputer\")"
   ]
  },
  {
   "cell_type": "code",
   "execution_count": 65,
   "id": "1f18e93c-ca12-432f-8210-3d9db3d53478",
   "metadata": {},
   "outputs": [
    {
     "name": "stdout",
     "output_type": "stream",
     "text": [
      "Temps écoulé FIT: 3.67 secondes\n",
      "Temps écoulé IMPUTATION: 0.41 secondes\n"
     ]
    },
    {
     "data": {
      "text/html": [
       "<div>\n",
       "<style scoped>\n",
       "    .dataframe tbody tr th:only-of-type {\n",
       "        vertical-align: middle;\n",
       "    }\n",
       "\n",
       "    .dataframe tbody tr th {\n",
       "        vertical-align: top;\n",
       "    }\n",
       "\n",
       "    .dataframe thead th {\n",
       "        text-align: right;\n",
       "    }\n",
       "</style>\n",
       "<table border=\"1\" class=\"dataframe\">\n",
       "  <thead>\n",
       "    <tr style=\"text-align: right;\">\n",
       "      <th></th>\n",
       "      <th>Column</th>\n",
       "      <th>R²</th>\n",
       "      <th>RMSE</th>\n",
       "      <th>MAE</th>\n",
       "    </tr>\n",
       "  </thead>\n",
       "  <tbody>\n",
       "    <tr>\n",
       "      <th>0</th>\n",
       "      <td>energy_100g</td>\n",
       "      <td>0.998128</td>\n",
       "      <td>32.103840</td>\n",
       "      <td>2.304354</td>\n",
       "    </tr>\n",
       "    <tr>\n",
       "      <th>1</th>\n",
       "      <td>fat_100g</td>\n",
       "      <td>0.994123</td>\n",
       "      <td>1.172631</td>\n",
       "      <td>0.170816</td>\n",
       "    </tr>\n",
       "    <tr>\n",
       "      <th>2</th>\n",
       "      <td>saturated-fat_100g</td>\n",
       "      <td>0.942472</td>\n",
       "      <td>1.605033</td>\n",
       "      <td>0.380096</td>\n",
       "    </tr>\n",
       "    <tr>\n",
       "      <th>3</th>\n",
       "      <td>carbohydrates_100g</td>\n",
       "      <td>0.990102</td>\n",
       "      <td>2.800794</td>\n",
       "      <td>0.396984</td>\n",
       "    </tr>\n",
       "    <tr>\n",
       "      <th>4</th>\n",
       "      <td>sugars_100g</td>\n",
       "      <td>0.964720</td>\n",
       "      <td>3.651771</td>\n",
       "      <td>0.736861</td>\n",
       "    </tr>\n",
       "    <tr>\n",
       "      <th>5</th>\n",
       "      <td>fiber_100g</td>\n",
       "      <td>0.834326</td>\n",
       "      <td>1.763786</td>\n",
       "      <td>0.509057</td>\n",
       "    </tr>\n",
       "    <tr>\n",
       "      <th>6</th>\n",
       "      <td>proteins_100g</td>\n",
       "      <td>0.987704</td>\n",
       "      <td>0.886550</td>\n",
       "      <td>0.093233</td>\n",
       "    </tr>\n",
       "    <tr>\n",
       "      <th>7</th>\n",
       "      <td>salt_100g</td>\n",
       "      <td>0.926896</td>\n",
       "      <td>1.053354</td>\n",
       "      <td>0.060881</td>\n",
       "    </tr>\n",
       "    <tr>\n",
       "      <th>8</th>\n",
       "      <td>nutrition-score-fr_100g</td>\n",
       "      <td>0.948520</td>\n",
       "      <td>2.060198</td>\n",
       "      <td>0.658585</td>\n",
       "    </tr>\n",
       "  </tbody>\n",
       "</table>\n",
       "</div>"
      ],
      "text/plain": [
       "                    Column        R²       RMSE       MAE\n",
       "0              energy_100g  0.998128  32.103840  2.304354\n",
       "1                 fat_100g  0.994123   1.172631  0.170816\n",
       "2       saturated-fat_100g  0.942472   1.605033  0.380096\n",
       "3       carbohydrates_100g  0.990102   2.800794  0.396984\n",
       "4              sugars_100g  0.964720   3.651771  0.736861\n",
       "5               fiber_100g  0.834326   1.763786  0.509057\n",
       "6            proteins_100g  0.987704   0.886550  0.093233\n",
       "7                salt_100g  0.926896   1.053354  0.060881\n",
       "8  nutrition-score-fr_100g  0.948520   2.060198  0.658585"
      ]
     },
     "metadata": {},
     "output_type": "display_data"
    }
   ],
   "source": [
    "imputer_Iterative, evaluation_metrics_Iterative = evaluation_imputation(sample_nan, sample_non_nan, imputer = \"IterativeImputer\")"
   ]
  },
  {
   "cell_type": "code",
   "execution_count": 66,
   "id": "df1093b5-1664-4d63-bc8c-c0d22fc97748",
   "metadata": {},
   "outputs": [
    {
     "name": "stdout",
     "output_type": "stream",
     "text": [
      "Temps écoulé FIT: 0.00 secondes\n",
      "Temps écoulé IMPUTATION: 0.00 secondes\n"
     ]
    },
    {
     "data": {
      "text/html": [
       "<div>\n",
       "<style scoped>\n",
       "    .dataframe tbody tr th:only-of-type {\n",
       "        vertical-align: middle;\n",
       "    }\n",
       "\n",
       "    .dataframe tbody tr th {\n",
       "        vertical-align: top;\n",
       "    }\n",
       "\n",
       "    .dataframe thead th {\n",
       "        text-align: right;\n",
       "    }\n",
       "</style>\n",
       "<table border=\"1\" class=\"dataframe\">\n",
       "  <thead>\n",
       "    <tr style=\"text-align: right;\">\n",
       "      <th></th>\n",
       "      <th>Column</th>\n",
       "      <th>R²</th>\n",
       "      <th>RMSE</th>\n",
       "      <th>MAE</th>\n",
       "    </tr>\n",
       "  </thead>\n",
       "  <tbody>\n",
       "    <tr>\n",
       "      <th>0</th>\n",
       "      <td>energy_100g</td>\n",
       "      <td>0.977495</td>\n",
       "      <td>111.323011</td>\n",
       "      <td>14.308257</td>\n",
       "    </tr>\n",
       "    <tr>\n",
       "      <th>1</th>\n",
       "      <td>fat_100g</td>\n",
       "      <td>0.912803</td>\n",
       "      <td>4.516884</td>\n",
       "      <td>1.055784</td>\n",
       "    </tr>\n",
       "    <tr>\n",
       "      <th>2</th>\n",
       "      <td>saturated-fat_100g</td>\n",
       "      <td>0.854361</td>\n",
       "      <td>2.553783</td>\n",
       "      <td>0.682257</td>\n",
       "    </tr>\n",
       "    <tr>\n",
       "      <th>3</th>\n",
       "      <td>carbohydrates_100g</td>\n",
       "      <td>0.912125</td>\n",
       "      <td>8.345168</td>\n",
       "      <td>2.199147</td>\n",
       "    </tr>\n",
       "    <tr>\n",
       "      <th>4</th>\n",
       "      <td>sugars_100g</td>\n",
       "      <td>0.921172</td>\n",
       "      <td>5.458540</td>\n",
       "      <td>1.198639</td>\n",
       "    </tr>\n",
       "    <tr>\n",
       "      <th>5</th>\n",
       "      <td>fiber_100g</td>\n",
       "      <td>0.762369</td>\n",
       "      <td>2.112368</td>\n",
       "      <td>0.664612</td>\n",
       "    </tr>\n",
       "    <tr>\n",
       "      <th>6</th>\n",
       "      <td>proteins_100g</td>\n",
       "      <td>0.972496</td>\n",
       "      <td>1.325932</td>\n",
       "      <td>0.152230</td>\n",
       "    </tr>\n",
       "    <tr>\n",
       "      <th>7</th>\n",
       "      <td>salt_100g</td>\n",
       "      <td>0.921332</td>\n",
       "      <td>1.092705</td>\n",
       "      <td>0.059881</td>\n",
       "    </tr>\n",
       "    <tr>\n",
       "      <th>8</th>\n",
       "      <td>nutrition-score-fr_100g</td>\n",
       "      <td>0.823282</td>\n",
       "      <td>3.817081</td>\n",
       "      <td>1.390478</td>\n",
       "    </tr>\n",
       "  </tbody>\n",
       "</table>\n",
       "</div>"
      ],
      "text/plain": [
       "                    Column        R²        RMSE        MAE\n",
       "0              energy_100g  0.977495  111.323011  14.308257\n",
       "1                 fat_100g  0.912803    4.516884   1.055784\n",
       "2       saturated-fat_100g  0.854361    2.553783   0.682257\n",
       "3       carbohydrates_100g  0.912125    8.345168   2.199147\n",
       "4              sugars_100g  0.921172    5.458540   1.198639\n",
       "5               fiber_100g  0.762369    2.112368   0.664612\n",
       "6            proteins_100g  0.972496    1.325932   0.152230\n",
       "7                salt_100g  0.921332    1.092705   0.059881\n",
       "8  nutrition-score-fr_100g  0.823282    3.817081   1.390478"
      ]
     },
     "metadata": {},
     "output_type": "display_data"
    }
   ],
   "source": [
    "imputer_Simple, evaluation_metrics_Simple = evaluation_imputation(sample_nan, sample_non_nan, imputer = \"SimpleImputer\")"
   ]
  },
  {
   "cell_type": "markdown",
   "id": "1606d20c-1ca2-4c53-9e99-afa4db072822",
   "metadata": {},
   "source": [
    "On compare ces 3 imputations:"
   ]
  },
  {
   "cell_type": "code",
   "execution_count": 67,
   "id": "a1121db8-70aa-48c1-9447-477da6ef3086",
   "metadata": {},
   "outputs": [
    {
     "name": "stdout",
     "output_type": "stream",
     "text": [
      "Le gagnant est KNN avec 18 apparitions sur 27 soit 66.67% d'apparitions.\n"
     ]
    },
    {
     "data": {
      "text/html": [
       "<div>\n",
       "<style scoped>\n",
       "    .dataframe tbody tr th:only-of-type {\n",
       "        vertical-align: middle;\n",
       "    }\n",
       "\n",
       "    .dataframe tbody tr th {\n",
       "        vertical-align: top;\n",
       "    }\n",
       "\n",
       "    .dataframe thead th {\n",
       "        text-align: right;\n",
       "    }\n",
       "</style>\n",
       "<table border=\"1\" class=\"dataframe\">\n",
       "  <thead>\n",
       "    <tr style=\"text-align: right;\">\n",
       "      <th></th>\n",
       "      <th>Column</th>\n",
       "      <th>R² Winner</th>\n",
       "      <th>RMSE Winner</th>\n",
       "      <th>MAE Winner</th>\n",
       "    </tr>\n",
       "  </thead>\n",
       "  <tbody>\n",
       "    <tr>\n",
       "      <th>0</th>\n",
       "      <td>energy_100g</td>\n",
       "      <td>Iterative</td>\n",
       "      <td>Iterative</td>\n",
       "      <td>Iterative</td>\n",
       "    </tr>\n",
       "    <tr>\n",
       "      <th>1</th>\n",
       "      <td>fat_100g</td>\n",
       "      <td>Iterative</td>\n",
       "      <td>Iterative</td>\n",
       "      <td>Iterative</td>\n",
       "    </tr>\n",
       "    <tr>\n",
       "      <th>2</th>\n",
       "      <td>saturated-fat_100g</td>\n",
       "      <td>KNN</td>\n",
       "      <td>KNN</td>\n",
       "      <td>KNN</td>\n",
       "    </tr>\n",
       "    <tr>\n",
       "      <th>3</th>\n",
       "      <td>carbohydrates_100g</td>\n",
       "      <td>Iterative</td>\n",
       "      <td>Iterative</td>\n",
       "      <td>Iterative</td>\n",
       "    </tr>\n",
       "    <tr>\n",
       "      <th>4</th>\n",
       "      <td>sugars_100g</td>\n",
       "      <td>KNN</td>\n",
       "      <td>KNN</td>\n",
       "      <td>KNN</td>\n",
       "    </tr>\n",
       "    <tr>\n",
       "      <th>5</th>\n",
       "      <td>fiber_100g</td>\n",
       "      <td>KNN</td>\n",
       "      <td>KNN</td>\n",
       "      <td>KNN</td>\n",
       "    </tr>\n",
       "    <tr>\n",
       "      <th>6</th>\n",
       "      <td>proteins_100g</td>\n",
       "      <td>KNN</td>\n",
       "      <td>KNN</td>\n",
       "      <td>KNN</td>\n",
       "    </tr>\n",
       "    <tr>\n",
       "      <th>7</th>\n",
       "      <td>salt_100g</td>\n",
       "      <td>KNN</td>\n",
       "      <td>KNN</td>\n",
       "      <td>KNN</td>\n",
       "    </tr>\n",
       "    <tr>\n",
       "      <th>8</th>\n",
       "      <td>nutrition-score-fr_100g</td>\n",
       "      <td>KNN</td>\n",
       "      <td>KNN</td>\n",
       "      <td>KNN</td>\n",
       "    </tr>\n",
       "  </tbody>\n",
       "</table>\n",
       "</div>"
      ],
      "text/plain": [
       "                    Column  R² Winner RMSE Winner MAE Winner\n",
       "0              energy_100g  Iterative   Iterative  Iterative\n",
       "1                 fat_100g  Iterative   Iterative  Iterative\n",
       "2       saturated-fat_100g        KNN         KNN        KNN\n",
       "3       carbohydrates_100g  Iterative   Iterative  Iterative\n",
       "4              sugars_100g        KNN         KNN        KNN\n",
       "5               fiber_100g        KNN         KNN        KNN\n",
       "6            proteins_100g        KNN         KNN        KNN\n",
       "7                salt_100g        KNN         KNN        KNN\n",
       "8  nutrition-score-fr_100g        KNN         KNN        KNN"
      ]
     },
     "metadata": {},
     "output_type": "display_data"
    }
   ],
   "source": [
    "comparison_df, winner = imputation_winner(evaluation_metrics_Iterative, evaluation_metrics_KNN, evaluation_metrics_Simple)"
   ]
  },
  {
   "cell_type": "markdown",
   "id": "da138a58-2837-410f-a8f6-d0ba5c66b5b4",
   "metadata": {},
   "source": [
    "**Nous allons désormais imputer le DataFrame avec cette méthode**"
   ]
  },
  {
   "cell_type": "markdown",
   "id": "fd0b9a57-9feb-4c9f-bb82-8a68517c0c01",
   "metadata": {},
   "source": [
    "On conditionne en 1er lieu les valeurs supérieures ou égales à -15 (à cause de la colonne nutrition-score-fr_100g)"
   ]
  },
  {
   "cell_type": "code",
   "execution_count": 68,
   "id": "ed62ece8-b980-4e2d-a4e0-78823d76dc48",
   "metadata": {},
   "outputs": [],
   "source": [
    "DataProduits_imputed_KNN = KNNImputer_(DataProduits, seuil_min=-15, seuil_max=None, n_neighbors=5)"
   ]
  },
  {
   "cell_type": "markdown",
   "id": "4fe3cca7-366d-47e9-bd99-bb79a2445a03",
   "metadata": {},
   "source": [
    "#### Reformatage des valeurs de nutrition-score-fr_100g"
   ]
  },
  {
   "cell_type": "code",
   "execution_count": 69,
   "id": "ecf5fdd6-a946-4d8e-a74c-f3015c9bb23d",
   "metadata": {},
   "outputs": [],
   "source": [
    "DataProduits_imputed_KNN['nutrition-score-fr_100g'] = np.round(DataProduits_imputed_KNN['nutrition-score-fr_100g'])"
   ]
  },
  {
   "cell_type": "code",
   "execution_count": 70,
   "id": "b905b527-f127-4c3f-b7fc-8d277b0316de",
   "metadata": {},
   "outputs": [
    {
     "data": {
      "text/html": [
       "<div>\n",
       "<style scoped>\n",
       "    .dataframe tbody tr th:only-of-type {\n",
       "        vertical-align: middle;\n",
       "    }\n",
       "\n",
       "    .dataframe tbody tr th {\n",
       "        vertical-align: top;\n",
       "    }\n",
       "\n",
       "    .dataframe thead th {\n",
       "        text-align: right;\n",
       "    }\n",
       "</style>\n",
       "<table border=\"1\" class=\"dataframe\">\n",
       "  <thead>\n",
       "    <tr style=\"text-align: right;\">\n",
       "      <th></th>\n",
       "      <th>energy_100g</th>\n",
       "      <th>fat_100g</th>\n",
       "      <th>saturated-fat_100g</th>\n",
       "      <th>carbohydrates_100g</th>\n",
       "      <th>sugars_100g</th>\n",
       "      <th>fiber_100g</th>\n",
       "      <th>proteins_100g</th>\n",
       "      <th>salt_100g</th>\n",
       "      <th>nutrition-score-fr_100g</th>\n",
       "    </tr>\n",
       "  </thead>\n",
       "  <tbody>\n",
       "    <tr>\n",
       "      <th>count</th>\n",
       "      <td>263548.000000</td>\n",
       "      <td>263548.000000</td>\n",
       "      <td>263548.000000</td>\n",
       "      <td>263548.000000</td>\n",
       "      <td>263548.000000</td>\n",
       "      <td>263548.000000</td>\n",
       "      <td>263548.000000</td>\n",
       "      <td>263548.000000</td>\n",
       "      <td>263548.000000</td>\n",
       "    </tr>\n",
       "    <tr>\n",
       "      <th>mean</th>\n",
       "      <td>1123.785243</td>\n",
       "      <td>12.289656</td>\n",
       "      <td>4.566003</td>\n",
       "      <td>32.178245</td>\n",
       "      <td>15.582274</td>\n",
       "      <td>2.559659</td>\n",
       "      <td>7.154285</td>\n",
       "      <td>1.595909</td>\n",
       "      <td>8.937450</td>\n",
       "    </tr>\n",
       "    <tr>\n",
       "      <th>std</th>\n",
       "      <td>771.363595</td>\n",
       "      <td>16.330821</td>\n",
       "      <td>7.222385</td>\n",
       "      <td>28.206577</td>\n",
       "      <td>20.707402</td>\n",
       "      <td>4.247059</td>\n",
       "      <td>8.075926</td>\n",
       "      <td>6.158141</td>\n",
       "      <td>8.759374</td>\n",
       "    </tr>\n",
       "    <tr>\n",
       "      <th>min</th>\n",
       "      <td>0.000000</td>\n",
       "      <td>0.000000</td>\n",
       "      <td>0.000000</td>\n",
       "      <td>0.000000</td>\n",
       "      <td>0.000000</td>\n",
       "      <td>0.000000</td>\n",
       "      <td>0.000000</td>\n",
       "      <td>0.000000</td>\n",
       "      <td>-15.000000</td>\n",
       "    </tr>\n",
       "    <tr>\n",
       "      <th>25%</th>\n",
       "      <td>397.000000</td>\n",
       "      <td>0.040000</td>\n",
       "      <td>0.000000</td>\n",
       "      <td>6.670000</td>\n",
       "      <td>1.220000</td>\n",
       "      <td>0.000000</td>\n",
       "      <td>0.820000</td>\n",
       "      <td>0.080000</td>\n",
       "      <td>1.000000</td>\n",
       "    </tr>\n",
       "    <tr>\n",
       "      <th>50%</th>\n",
       "      <td>1123.675948</td>\n",
       "      <td>5.560000</td>\n",
       "      <td>1.330000</td>\n",
       "      <td>23.000000</td>\n",
       "      <td>5.800000</td>\n",
       "      <td>1.200000</td>\n",
       "      <td>5.000000</td>\n",
       "      <td>0.614680</td>\n",
       "      <td>9.000000</td>\n",
       "    </tr>\n",
       "    <tr>\n",
       "      <th>75%</th>\n",
       "      <td>1670.600000</td>\n",
       "      <td>19.350000</td>\n",
       "      <td>6.450000</td>\n",
       "      <td>57.140000</td>\n",
       "      <td>22.580000</td>\n",
       "      <td>3.300000</td>\n",
       "      <td>10.000000</td>\n",
       "      <td>1.440180</td>\n",
       "      <td>15.000000</td>\n",
       "    </tr>\n",
       "    <tr>\n",
       "      <th>max</th>\n",
       "      <td>3598.000000</td>\n",
       "      <td>100.000000</td>\n",
       "      <td>100.000000</td>\n",
       "      <td>100.000000</td>\n",
       "      <td>100.000000</td>\n",
       "      <td>100.000000</td>\n",
       "      <td>100.000000</td>\n",
       "      <td>100.000000</td>\n",
       "      <td>40.000000</td>\n",
       "    </tr>\n",
       "  </tbody>\n",
       "</table>\n",
       "</div>"
      ],
      "text/plain": [
       "         energy_100g       fat_100g  saturated-fat_100g  carbohydrates_100g  \\\n",
       "count  263548.000000  263548.000000       263548.000000       263548.000000   \n",
       "mean     1123.785243      12.289656            4.566003           32.178245   \n",
       "std       771.363595      16.330821            7.222385           28.206577   \n",
       "min         0.000000       0.000000            0.000000            0.000000   \n",
       "25%       397.000000       0.040000            0.000000            6.670000   \n",
       "50%      1123.675948       5.560000            1.330000           23.000000   \n",
       "75%      1670.600000      19.350000            6.450000           57.140000   \n",
       "max      3598.000000     100.000000          100.000000          100.000000   \n",
       "\n",
       "         sugars_100g     fiber_100g  proteins_100g      salt_100g  \\\n",
       "count  263548.000000  263548.000000  263548.000000  263548.000000   \n",
       "mean       15.582274       2.559659       7.154285       1.595909   \n",
       "std        20.707402       4.247059       8.075926       6.158141   \n",
       "min         0.000000       0.000000       0.000000       0.000000   \n",
       "25%         1.220000       0.000000       0.820000       0.080000   \n",
       "50%         5.800000       1.200000       5.000000       0.614680   \n",
       "75%        22.580000       3.300000      10.000000       1.440180   \n",
       "max       100.000000     100.000000     100.000000     100.000000   \n",
       "\n",
       "       nutrition-score-fr_100g  \n",
       "count            263548.000000  \n",
       "mean                  8.937450  \n",
       "std                   8.759374  \n",
       "min                 -15.000000  \n",
       "25%                   1.000000  \n",
       "50%                   9.000000  \n",
       "75%                  15.000000  \n",
       "max                  40.000000  "
      ]
     },
     "execution_count": 70,
     "metadata": {},
     "output_type": "execute_result"
    }
   ],
   "source": [
    "DataProduits_imputed_KNN.describe()"
   ]
  },
  {
   "cell_type": "markdown",
   "id": "f060c684-e525-4405-812c-054e77f0a60d",
   "metadata": {},
   "source": [
    "Désormais, nous pouvons désormais remplir les scores de nutrition_grade_fr à partir des valeurs de nutrition-score-fr_100g"
   ]
  },
  {
   "cell_type": "code",
   "execution_count": 71,
   "id": "61a4dbb6-6866-487e-8fa8-15a4161dd287",
   "metadata": {},
   "outputs": [],
   "source": [
    "# Fonction pour déterminer la note nutritionnelle en fonction du score\n",
    "\n",
    "def assign_nutrition_grade(row):\n",
    "    score = row['nutrition-score-fr_100g']\n",
    "    grade = row['nutrition_grade_fr']\n",
    "    \n",
    "    if pd.isna(grade):\n",
    "        if -15 <= score <= -1:\n",
    "            return 'a'\n",
    "        elif 0 <= score <= 2:\n",
    "            return 'b'\n",
    "        elif 3 <= score <= 10:\n",
    "            return 'c'\n",
    "        elif 11 <= score <= 18:\n",
    "            return 'd'\n",
    "        elif 19 <= score <= 40:\n",
    "            return 'e'\n",
    "    else:\n",
    "        return grade\n",
    "\n",
    "# Appliquer la fonction sur chaque ligne du DataFrame\n",
    "DataProduits_imputed_KNN['nutrition_grade_fr'] = DataProduits_imputed_KNN.apply(assign_nutrition_grade, axis=1)\n",
    "\n"
   ]
  },
  {
   "cell_type": "code",
   "execution_count": 72,
   "id": "95e3821e-a1df-463d-801c-211eebbb0fe8",
   "metadata": {},
   "outputs": [
    {
     "data": {
      "text/html": [
       "<div>\n",
       "<style scoped>\n",
       "    .dataframe tbody tr th:only-of-type {\n",
       "        vertical-align: middle;\n",
       "    }\n",
       "\n",
       "    .dataframe tbody tr th {\n",
       "        vertical-align: top;\n",
       "    }\n",
       "\n",
       "    .dataframe thead th {\n",
       "        text-align: right;\n",
       "    }\n",
       "</style>\n",
       "<table border=\"1\" class=\"dataframe\">\n",
       "  <thead>\n",
       "    <tr style=\"text-align: right;\">\n",
       "      <th></th>\n",
       "      <th>code</th>\n",
       "      <th>url</th>\n",
       "      <th>creator</th>\n",
       "      <th>created_datetime</th>\n",
       "      <th>last_modified_datetime</th>\n",
       "      <th>product_name</th>\n",
       "      <th>quantity</th>\n",
       "      <th>packaging</th>\n",
       "      <th>brands</th>\n",
       "      <th>categories_fr</th>\n",
       "      <th>origins</th>\n",
       "      <th>manufacturing_places</th>\n",
       "      <th>labels_fr</th>\n",
       "      <th>emb_codes</th>\n",
       "      <th>first_packaging_code_geo</th>\n",
       "      <th>cities_tags</th>\n",
       "      <th>purchase_places</th>\n",
       "      <th>stores</th>\n",
       "      <th>countries_fr</th>\n",
       "      <th>ingredients_text</th>\n",
       "      <th>allergens</th>\n",
       "      <th>traces_fr</th>\n",
       "      <th>serving_size</th>\n",
       "      <th>additives_fr</th>\n",
       "      <th>ingredients_from_palm_oil_tags</th>\n",
       "      <th>ingredients_that_may_be_from_palm_oil_tags</th>\n",
       "      <th>nutrition_grade_fr</th>\n",
       "      <th>image_url</th>\n",
       "      <th>image_small_url</th>\n",
       "      <th>energy_100g</th>\n",
       "      <th>fat_100g</th>\n",
       "      <th>saturated-fat_100g</th>\n",
       "      <th>carbohydrates_100g</th>\n",
       "      <th>sugars_100g</th>\n",
       "      <th>fiber_100g</th>\n",
       "      <th>proteins_100g</th>\n",
       "      <th>salt_100g</th>\n",
       "      <th>nutrition-score-fr_100g</th>\n",
       "    </tr>\n",
       "  </thead>\n",
       "  <tbody>\n",
       "    <tr>\n",
       "      <th>1</th>\n",
       "      <td>0000000004530</td>\n",
       "      <td>http://world-fr.openfoodfacts.org/produit/0000...</td>\n",
       "      <td>usda-ndb-import</td>\n",
       "      <td>2017-03-09T14:32:37Z</td>\n",
       "      <td>2017-03-09T14:32:37Z</td>\n",
       "      <td>Banana Chips Sweetened (Whole)</td>\n",
       "      <td>NaN</td>\n",
       "      <td>NaN</td>\n",
       "      <td>NaN</td>\n",
       "      <td>NaN</td>\n",
       "      <td>NaN</td>\n",
       "      <td>NaN</td>\n",
       "      <td>NaN</td>\n",
       "      <td>NaN</td>\n",
       "      <td>NaN</td>\n",
       "      <td>NaN</td>\n",
       "      <td>NaN</td>\n",
       "      <td>NaN</td>\n",
       "      <td>États-Unis</td>\n",
       "      <td>Bananas, vegetable oil (coconut oil, corn oil ...</td>\n",
       "      <td>NaN</td>\n",
       "      <td>NaN</td>\n",
       "      <td>28 g (1 ONZ)</td>\n",
       "      <td>NaN</td>\n",
       "      <td>NaN</td>\n",
       "      <td>NaN</td>\n",
       "      <td>d</td>\n",
       "      <td>NaN</td>\n",
       "      <td>NaN</td>\n",
       "      <td>2243.0</td>\n",
       "      <td>28.57</td>\n",
       "      <td>28.570</td>\n",
       "      <td>64.290</td>\n",
       "      <td>14.29</td>\n",
       "      <td>3.6</td>\n",
       "      <td>3.57</td>\n",
       "      <td>0.000000</td>\n",
       "      <td>14.0</td>\n",
       "    </tr>\n",
       "    <tr>\n",
       "      <th>2</th>\n",
       "      <td>0000000004559</td>\n",
       "      <td>http://world-fr.openfoodfacts.org/produit/0000...</td>\n",
       "      <td>usda-ndb-import</td>\n",
       "      <td>2017-03-09T14:32:37Z</td>\n",
       "      <td>2017-03-09T14:32:37Z</td>\n",
       "      <td>Peanuts</td>\n",
       "      <td>NaN</td>\n",
       "      <td>NaN</td>\n",
       "      <td>Torn &amp; Glasser</td>\n",
       "      <td>NaN</td>\n",
       "      <td>NaN</td>\n",
       "      <td>NaN</td>\n",
       "      <td>NaN</td>\n",
       "      <td>NaN</td>\n",
       "      <td>NaN</td>\n",
       "      <td>NaN</td>\n",
       "      <td>NaN</td>\n",
       "      <td>NaN</td>\n",
       "      <td>États-Unis</td>\n",
       "      <td>Peanuts, wheat flour, sugar, rice flour, tapio...</td>\n",
       "      <td>NaN</td>\n",
       "      <td>NaN</td>\n",
       "      <td>28 g (0.25 cup)</td>\n",
       "      <td>NaN</td>\n",
       "      <td>NaN</td>\n",
       "      <td>NaN</td>\n",
       "      <td>b</td>\n",
       "      <td>NaN</td>\n",
       "      <td>NaN</td>\n",
       "      <td>1941.0</td>\n",
       "      <td>17.86</td>\n",
       "      <td>0.000</td>\n",
       "      <td>60.710</td>\n",
       "      <td>17.86</td>\n",
       "      <td>7.1</td>\n",
       "      <td>17.86</td>\n",
       "      <td>0.635000</td>\n",
       "      <td>0.0</td>\n",
       "    </tr>\n",
       "    <tr>\n",
       "      <th>3</th>\n",
       "      <td>0000000016087</td>\n",
       "      <td>http://world-fr.openfoodfacts.org/produit/0000...</td>\n",
       "      <td>usda-ndb-import</td>\n",
       "      <td>2017-03-09T10:35:31Z</td>\n",
       "      <td>2017-03-09T10:35:31Z</td>\n",
       "      <td>Organic Salted Nut Mix</td>\n",
       "      <td>NaN</td>\n",
       "      <td>NaN</td>\n",
       "      <td>Grizzlies</td>\n",
       "      <td>NaN</td>\n",
       "      <td>NaN</td>\n",
       "      <td>NaN</td>\n",
       "      <td>NaN</td>\n",
       "      <td>NaN</td>\n",
       "      <td>NaN</td>\n",
       "      <td>NaN</td>\n",
       "      <td>NaN</td>\n",
       "      <td>NaN</td>\n",
       "      <td>États-Unis</td>\n",
       "      <td>Organic hazelnuts, organic cashews, organic wa...</td>\n",
       "      <td>NaN</td>\n",
       "      <td>NaN</td>\n",
       "      <td>28 g (0.25 cup)</td>\n",
       "      <td>NaN</td>\n",
       "      <td>NaN</td>\n",
       "      <td>NaN</td>\n",
       "      <td>d</td>\n",
       "      <td>NaN</td>\n",
       "      <td>NaN</td>\n",
       "      <td>2540.0</td>\n",
       "      <td>57.14</td>\n",
       "      <td>5.360</td>\n",
       "      <td>17.860</td>\n",
       "      <td>3.57</td>\n",
       "      <td>7.1</td>\n",
       "      <td>17.86</td>\n",
       "      <td>1.224280</td>\n",
       "      <td>12.0</td>\n",
       "    </tr>\n",
       "    <tr>\n",
       "      <th>4</th>\n",
       "      <td>0000000016094</td>\n",
       "      <td>http://world-fr.openfoodfacts.org/produit/0000...</td>\n",
       "      <td>usda-ndb-import</td>\n",
       "      <td>2017-03-09T10:34:13Z</td>\n",
       "      <td>2017-03-09T10:34:13Z</td>\n",
       "      <td>Organic Polenta</td>\n",
       "      <td>NaN</td>\n",
       "      <td>NaN</td>\n",
       "      <td>Bob's Red Mill</td>\n",
       "      <td>NaN</td>\n",
       "      <td>NaN</td>\n",
       "      <td>NaN</td>\n",
       "      <td>NaN</td>\n",
       "      <td>NaN</td>\n",
       "      <td>NaN</td>\n",
       "      <td>NaN</td>\n",
       "      <td>NaN</td>\n",
       "      <td>NaN</td>\n",
       "      <td>États-Unis</td>\n",
       "      <td>Organic polenta</td>\n",
       "      <td>NaN</td>\n",
       "      <td>NaN</td>\n",
       "      <td>35 g (0.25 cup)</td>\n",
       "      <td>NaN</td>\n",
       "      <td>NaN</td>\n",
       "      <td>NaN</td>\n",
       "      <td>a</td>\n",
       "      <td>NaN</td>\n",
       "      <td>NaN</td>\n",
       "      <td>1552.0</td>\n",
       "      <td>1.43</td>\n",
       "      <td>0.120</td>\n",
       "      <td>77.140</td>\n",
       "      <td>4.60</td>\n",
       "      <td>5.7</td>\n",
       "      <td>8.57</td>\n",
       "      <td>0.510000</td>\n",
       "      <td>-2.0</td>\n",
       "    </tr>\n",
       "    <tr>\n",
       "      <th>5</th>\n",
       "      <td>0000000016100</td>\n",
       "      <td>http://world-fr.openfoodfacts.org/produit/0000...</td>\n",
       "      <td>usda-ndb-import</td>\n",
       "      <td>2017-03-09T10:34:11Z</td>\n",
       "      <td>2017-03-09T10:34:11Z</td>\n",
       "      <td>Breadshop Honey Gone Nuts Granola</td>\n",
       "      <td>NaN</td>\n",
       "      <td>NaN</td>\n",
       "      <td>Unfi</td>\n",
       "      <td>NaN</td>\n",
       "      <td>NaN</td>\n",
       "      <td>NaN</td>\n",
       "      <td>NaN</td>\n",
       "      <td>NaN</td>\n",
       "      <td>NaN</td>\n",
       "      <td>NaN</td>\n",
       "      <td>NaN</td>\n",
       "      <td>NaN</td>\n",
       "      <td>États-Unis</td>\n",
       "      <td>Rolled oats, grape concentrate, expeller press...</td>\n",
       "      <td>NaN</td>\n",
       "      <td>NaN</td>\n",
       "      <td>52 g (0.5 cup)</td>\n",
       "      <td>NaN</td>\n",
       "      <td>NaN</td>\n",
       "      <td>NaN</td>\n",
       "      <td>c</td>\n",
       "      <td>NaN</td>\n",
       "      <td>NaN</td>\n",
       "      <td>1933.0</td>\n",
       "      <td>18.27</td>\n",
       "      <td>1.920</td>\n",
       "      <td>63.460</td>\n",
       "      <td>11.54</td>\n",
       "      <td>7.7</td>\n",
       "      <td>13.46</td>\n",
       "      <td>1.006244</td>\n",
       "      <td>6.0</td>\n",
       "    </tr>\n",
       "    <tr>\n",
       "      <th>...</th>\n",
       "      <td>...</td>\n",
       "      <td>...</td>\n",
       "      <td>...</td>\n",
       "      <td>...</td>\n",
       "      <td>...</td>\n",
       "      <td>...</td>\n",
       "      <td>...</td>\n",
       "      <td>...</td>\n",
       "      <td>...</td>\n",
       "      <td>...</td>\n",
       "      <td>...</td>\n",
       "      <td>...</td>\n",
       "      <td>...</td>\n",
       "      <td>...</td>\n",
       "      <td>...</td>\n",
       "      <td>...</td>\n",
       "      <td>...</td>\n",
       "      <td>...</td>\n",
       "      <td>...</td>\n",
       "      <td>...</td>\n",
       "      <td>...</td>\n",
       "      <td>...</td>\n",
       "      <td>...</td>\n",
       "      <td>...</td>\n",
       "      <td>...</td>\n",
       "      <td>...</td>\n",
       "      <td>...</td>\n",
       "      <td>...</td>\n",
       "      <td>...</td>\n",
       "      <td>...</td>\n",
       "      <td>...</td>\n",
       "      <td>...</td>\n",
       "      <td>...</td>\n",
       "      <td>...</td>\n",
       "      <td>...</td>\n",
       "      <td>...</td>\n",
       "      <td>...</td>\n",
       "      <td>...</td>\n",
       "    </tr>\n",
       "    <tr>\n",
       "      <th>320751</th>\n",
       "      <td>9847548283004</td>\n",
       "      <td>http://world-fr.openfoodfacts.org/produit/9847...</td>\n",
       "      <td>drmalabar</td>\n",
       "      <td>2015-07-25T09:47:06Z</td>\n",
       "      <td>2015-09-14T13:37:28Z</td>\n",
       "      <td>Tartines craquantes bio au sarrasin</td>\n",
       "      <td>NaN</td>\n",
       "      <td>Boîte,Carton,Sachet,Plastique</td>\n",
       "      <td>Le Pain des fleurs</td>\n",
       "      <td>Aliments et boissons à base de végétaux,Alimen...</td>\n",
       "      <td>NaN</td>\n",
       "      <td>France</td>\n",
       "      <td>Bio,Bio européen,Sans gluten,AB Agriculture Bi...</td>\n",
       "      <td>NaN</td>\n",
       "      <td>NaN</td>\n",
       "      <td>NaN</td>\n",
       "      <td>NaN</td>\n",
       "      <td>NaN</td>\n",
       "      <td>France</td>\n",
       "      <td>NaN</td>\n",
       "      <td>NaN</td>\n",
       "      <td>NaN</td>\n",
       "      <td>NaN</td>\n",
       "      <td>NaN</td>\n",
       "      <td>NaN</td>\n",
       "      <td>NaN</td>\n",
       "      <td>a</td>\n",
       "      <td>http://fr.openfoodfacts.org/images/products/98...</td>\n",
       "      <td>http://fr.openfoodfacts.org/images/products/98...</td>\n",
       "      <td>1643.0</td>\n",
       "      <td>2.80</td>\n",
       "      <td>0.600</td>\n",
       "      <td>74.800</td>\n",
       "      <td>2.60</td>\n",
       "      <td>5.9</td>\n",
       "      <td>13.00</td>\n",
       "      <td>0.680000</td>\n",
       "      <td>-4.0</td>\n",
       "    </tr>\n",
       "    <tr>\n",
       "      <th>320756</th>\n",
       "      <td>989898</td>\n",
       "      <td>http://world-fr.openfoodfacts.org/produit/9898...</td>\n",
       "      <td>openfoodfacts-contributors</td>\n",
       "      <td>2016-09-12T15:40:09Z</td>\n",
       "      <td>2016-09-12T15:40:15Z</td>\n",
       "      <td>Test NF App</td>\n",
       "      <td>100gr</td>\n",
       "      <td>NaN</td>\n",
       "      <td>NaN</td>\n",
       "      <td>NaN</td>\n",
       "      <td>NaN</td>\n",
       "      <td>NaN</td>\n",
       "      <td>NaN</td>\n",
       "      <td>NaN</td>\n",
       "      <td>NaN</td>\n",
       "      <td>NaN</td>\n",
       "      <td>NaN</td>\n",
       "      <td>NaN</td>\n",
       "      <td>Suisse</td>\n",
       "      <td>Coco, choco</td>\n",
       "      <td>NaN</td>\n",
       "      <td>NaN</td>\n",
       "      <td>NaN</td>\n",
       "      <td>NaN</td>\n",
       "      <td>NaN</td>\n",
       "      <td>NaN</td>\n",
       "      <td>c</td>\n",
       "      <td>NaN</td>\n",
       "      <td>NaN</td>\n",
       "      <td>569.0</td>\n",
       "      <td>31.00</td>\n",
       "      <td>2.708</td>\n",
       "      <td>12.200</td>\n",
       "      <td>9.60</td>\n",
       "      <td>1.1</td>\n",
       "      <td>2.10</td>\n",
       "      <td>1.100000</td>\n",
       "      <td>8.0</td>\n",
       "    </tr>\n",
       "    <tr>\n",
       "      <th>320757</th>\n",
       "      <td>9900000000233</td>\n",
       "      <td>http://world-fr.openfoodfacts.org/produit/9900...</td>\n",
       "      <td>kiliweb</td>\n",
       "      <td>2017-04-01T20:52:18Z</td>\n",
       "      <td>2017-04-01T20:52:19Z</td>\n",
       "      <td>Amandes</td>\n",
       "      <td>NaN</td>\n",
       "      <td>NaN</td>\n",
       "      <td>Biosic</td>\n",
       "      <td>NaN</td>\n",
       "      <td>NaN</td>\n",
       "      <td>NaN</td>\n",
       "      <td>Bio,Bio européen,AB Agriculture Biologique</td>\n",
       "      <td>NaN</td>\n",
       "      <td>NaN</td>\n",
       "      <td>NaN</td>\n",
       "      <td>NaN</td>\n",
       "      <td>NaN</td>\n",
       "      <td>France</td>\n",
       "      <td>NaN</td>\n",
       "      <td>NaN</td>\n",
       "      <td>NaN</td>\n",
       "      <td>NaN</td>\n",
       "      <td>NaN</td>\n",
       "      <td>NaN</td>\n",
       "      <td>NaN</td>\n",
       "      <td>b</td>\n",
       "      <td>NaN</td>\n",
       "      <td>NaN</td>\n",
       "      <td>2406.0</td>\n",
       "      <td>9.88</td>\n",
       "      <td>3.730</td>\n",
       "      <td>17.078</td>\n",
       "      <td>3.89</td>\n",
       "      <td>12.2</td>\n",
       "      <td>21.22</td>\n",
       "      <td>0.100000</td>\n",
       "      <td>0.0</td>\n",
       "    </tr>\n",
       "    <tr>\n",
       "      <th>320763</th>\n",
       "      <td>99111250</td>\n",
       "      <td>http://world-fr.openfoodfacts.org/produit/9911...</td>\n",
       "      <td>balooval</td>\n",
       "      <td>2013-04-28T15:30:39Z</td>\n",
       "      <td>2013-06-20T01:09:16Z</td>\n",
       "      <td>Thé vert Earl grey</td>\n",
       "      <td>50 g</td>\n",
       "      <td>boîte,carton</td>\n",
       "      <td>Lobodis</td>\n",
       "      <td>Aliments et boissons à base de végétaux,Boisso...</td>\n",
       "      <td>NaN</td>\n",
       "      <td>NaN</td>\n",
       "      <td>Commerce équitable,Bio,Bio européen,Max Havela...</td>\n",
       "      <td>NaN</td>\n",
       "      <td>NaN</td>\n",
       "      <td>NaN</td>\n",
       "      <td>NaN</td>\n",
       "      <td>NaN</td>\n",
       "      <td>France</td>\n",
       "      <td>thé vert, arôme naturel bergamote avec autres ...</td>\n",
       "      <td>NaN</td>\n",
       "      <td>NaN</td>\n",
       "      <td>NaN</td>\n",
       "      <td>NaN</td>\n",
       "      <td>NaN</td>\n",
       "      <td>NaN</td>\n",
       "      <td>b</td>\n",
       "      <td>http://fr.openfoodfacts.org/images/products/99...</td>\n",
       "      <td>http://fr.openfoodfacts.org/images/products/99...</td>\n",
       "      <td>21.0</td>\n",
       "      <td>0.20</td>\n",
       "      <td>0.200</td>\n",
       "      <td>0.500</td>\n",
       "      <td>0.50</td>\n",
       "      <td>0.2</td>\n",
       "      <td>0.50</td>\n",
       "      <td>0.025400</td>\n",
       "      <td>1.0</td>\n",
       "    </tr>\n",
       "    <tr>\n",
       "      <th>320771</th>\n",
       "      <td>999990026839</td>\n",
       "      <td>http://world-fr.openfoodfacts.org/produit/9999...</td>\n",
       "      <td>usda-ndb-import</td>\n",
       "      <td>2017-03-09T15:18:29Z</td>\n",
       "      <td>2017-04-03T18:34:59Z</td>\n",
       "      <td>Sugar Free Drink Mix, Peach Tea</td>\n",
       "      <td>NaN</td>\n",
       "      <td>Plastique</td>\n",
       "      <td>Market Pantry</td>\n",
       "      <td>NaN</td>\n",
       "      <td>NaN</td>\n",
       "      <td>NaN</td>\n",
       "      <td>NaN</td>\n",
       "      <td>NaN</td>\n",
       "      <td>NaN</td>\n",
       "      <td>NaN</td>\n",
       "      <td>NaN</td>\n",
       "      <td>NaN</td>\n",
       "      <td>États-Unis</td>\n",
       "      <td>Citric acid, maltodextrin, instant tea, aspart...</td>\n",
       "      <td>NaN</td>\n",
       "      <td>NaN</td>\n",
       "      <td>1 g (0.5 PACKET)</td>\n",
       "      <td>E330 - Acide citrique,E951 - Aspartame,E150a -...</td>\n",
       "      <td>NaN</td>\n",
       "      <td>NaN</td>\n",
       "      <td>c</td>\n",
       "      <td>NaN</td>\n",
       "      <td>NaN</td>\n",
       "      <td>2092.0</td>\n",
       "      <td>0.00</td>\n",
       "      <td>0.000</td>\n",
       "      <td>0.000</td>\n",
       "      <td>0.00</td>\n",
       "      <td>0.0</td>\n",
       "      <td>0.00</td>\n",
       "      <td>0.000000</td>\n",
       "      <td>6.0</td>\n",
       "    </tr>\n",
       "  </tbody>\n",
       "</table>\n",
       "<p>263548 rows × 38 columns</p>\n",
       "</div>"
      ],
      "text/plain": [
       "                 code                                                url  \\\n",
       "1       0000000004530  http://world-fr.openfoodfacts.org/produit/0000...   \n",
       "2       0000000004559  http://world-fr.openfoodfacts.org/produit/0000...   \n",
       "3       0000000016087  http://world-fr.openfoodfacts.org/produit/0000...   \n",
       "4       0000000016094  http://world-fr.openfoodfacts.org/produit/0000...   \n",
       "5       0000000016100  http://world-fr.openfoodfacts.org/produit/0000...   \n",
       "...               ...                                                ...   \n",
       "320751  9847548283004  http://world-fr.openfoodfacts.org/produit/9847...   \n",
       "320756         989898  http://world-fr.openfoodfacts.org/produit/9898...   \n",
       "320757  9900000000233  http://world-fr.openfoodfacts.org/produit/9900...   \n",
       "320763       99111250  http://world-fr.openfoodfacts.org/produit/9911...   \n",
       "320771   999990026839  http://world-fr.openfoodfacts.org/produit/9999...   \n",
       "\n",
       "                           creator      created_datetime  \\\n",
       "1                  usda-ndb-import  2017-03-09T14:32:37Z   \n",
       "2                  usda-ndb-import  2017-03-09T14:32:37Z   \n",
       "3                  usda-ndb-import  2017-03-09T10:35:31Z   \n",
       "4                  usda-ndb-import  2017-03-09T10:34:13Z   \n",
       "5                  usda-ndb-import  2017-03-09T10:34:11Z   \n",
       "...                            ...                   ...   \n",
       "320751                   drmalabar  2015-07-25T09:47:06Z   \n",
       "320756  openfoodfacts-contributors  2016-09-12T15:40:09Z   \n",
       "320757                     kiliweb  2017-04-01T20:52:18Z   \n",
       "320763                    balooval  2013-04-28T15:30:39Z   \n",
       "320771             usda-ndb-import  2017-03-09T15:18:29Z   \n",
       "\n",
       "       last_modified_datetime                         product_name quantity  \\\n",
       "1        2017-03-09T14:32:37Z       Banana Chips Sweetened (Whole)      NaN   \n",
       "2        2017-03-09T14:32:37Z                              Peanuts      NaN   \n",
       "3        2017-03-09T10:35:31Z               Organic Salted Nut Mix      NaN   \n",
       "4        2017-03-09T10:34:13Z                      Organic Polenta      NaN   \n",
       "5        2017-03-09T10:34:11Z    Breadshop Honey Gone Nuts Granola      NaN   \n",
       "...                       ...                                  ...      ...   \n",
       "320751   2015-09-14T13:37:28Z  Tartines craquantes bio au sarrasin      NaN   \n",
       "320756   2016-09-12T15:40:15Z                          Test NF App    100gr   \n",
       "320757   2017-04-01T20:52:19Z                              Amandes      NaN   \n",
       "320763   2013-06-20T01:09:16Z                   Thé vert Earl grey     50 g   \n",
       "320771   2017-04-03T18:34:59Z      Sugar Free Drink Mix, Peach Tea      NaN   \n",
       "\n",
       "                            packaging              brands  \\\n",
       "1                                 NaN                 NaN   \n",
       "2                                 NaN      Torn & Glasser   \n",
       "3                                 NaN           Grizzlies   \n",
       "4                                 NaN      Bob's Red Mill   \n",
       "5                                 NaN                Unfi   \n",
       "...                               ...                 ...   \n",
       "320751  Boîte,Carton,Sachet,Plastique  Le Pain des fleurs   \n",
       "320756                            NaN                 NaN   \n",
       "320757                            NaN              Biosic   \n",
       "320763                   boîte,carton             Lobodis   \n",
       "320771                      Plastique       Market Pantry   \n",
       "\n",
       "                                            categories_fr origins  \\\n",
       "1                                                     NaN     NaN   \n",
       "2                                                     NaN     NaN   \n",
       "3                                                     NaN     NaN   \n",
       "4                                                     NaN     NaN   \n",
       "5                                                     NaN     NaN   \n",
       "...                                                   ...     ...   \n",
       "320751  Aliments et boissons à base de végétaux,Alimen...     NaN   \n",
       "320756                                                NaN     NaN   \n",
       "320757                                                NaN     NaN   \n",
       "320763  Aliments et boissons à base de végétaux,Boisso...     NaN   \n",
       "320771                                                NaN     NaN   \n",
       "\n",
       "       manufacturing_places  \\\n",
       "1                       NaN   \n",
       "2                       NaN   \n",
       "3                       NaN   \n",
       "4                       NaN   \n",
       "5                       NaN   \n",
       "...                     ...   \n",
       "320751               France   \n",
       "320756                  NaN   \n",
       "320757                  NaN   \n",
       "320763                  NaN   \n",
       "320771                  NaN   \n",
       "\n",
       "                                                labels_fr emb_codes  \\\n",
       "1                                                     NaN       NaN   \n",
       "2                                                     NaN       NaN   \n",
       "3                                                     NaN       NaN   \n",
       "4                                                     NaN       NaN   \n",
       "5                                                     NaN       NaN   \n",
       "...                                                   ...       ...   \n",
       "320751  Bio,Bio européen,Sans gluten,AB Agriculture Bi...       NaN   \n",
       "320756                                                NaN       NaN   \n",
       "320757         Bio,Bio européen,AB Agriculture Biologique       NaN   \n",
       "320763  Commerce équitable,Bio,Bio européen,Max Havela...       NaN   \n",
       "320771                                                NaN       NaN   \n",
       "\n",
       "       first_packaging_code_geo cities_tags purchase_places stores  \\\n",
       "1                           NaN         NaN             NaN    NaN   \n",
       "2                           NaN         NaN             NaN    NaN   \n",
       "3                           NaN         NaN             NaN    NaN   \n",
       "4                           NaN         NaN             NaN    NaN   \n",
       "5                           NaN         NaN             NaN    NaN   \n",
       "...                         ...         ...             ...    ...   \n",
       "320751                      NaN         NaN             NaN    NaN   \n",
       "320756                      NaN         NaN             NaN    NaN   \n",
       "320757                      NaN         NaN             NaN    NaN   \n",
       "320763                      NaN         NaN             NaN    NaN   \n",
       "320771                      NaN         NaN             NaN    NaN   \n",
       "\n",
       "       countries_fr                                   ingredients_text  \\\n",
       "1        États-Unis  Bananas, vegetable oil (coconut oil, corn oil ...   \n",
       "2        États-Unis  Peanuts, wheat flour, sugar, rice flour, tapio...   \n",
       "3        États-Unis  Organic hazelnuts, organic cashews, organic wa...   \n",
       "4        États-Unis                                    Organic polenta   \n",
       "5        États-Unis  Rolled oats, grape concentrate, expeller press...   \n",
       "...             ...                                                ...   \n",
       "320751       France                                                NaN   \n",
       "320756       Suisse                                        Coco, choco   \n",
       "320757       France                                                NaN   \n",
       "320763       France  thé vert, arôme naturel bergamote avec autres ...   \n",
       "320771   États-Unis  Citric acid, maltodextrin, instant tea, aspart...   \n",
       "\n",
       "       allergens traces_fr      serving_size  \\\n",
       "1            NaN       NaN      28 g (1 ONZ)   \n",
       "2            NaN       NaN   28 g (0.25 cup)   \n",
       "3            NaN       NaN   28 g (0.25 cup)   \n",
       "4            NaN       NaN   35 g (0.25 cup)   \n",
       "5            NaN       NaN    52 g (0.5 cup)   \n",
       "...          ...       ...               ...   \n",
       "320751       NaN       NaN               NaN   \n",
       "320756       NaN       NaN               NaN   \n",
       "320757       NaN       NaN               NaN   \n",
       "320763       NaN       NaN               NaN   \n",
       "320771       NaN       NaN  1 g (0.5 PACKET)   \n",
       "\n",
       "                                             additives_fr  \\\n",
       "1                                                     NaN   \n",
       "2                                                     NaN   \n",
       "3                                                     NaN   \n",
       "4                                                     NaN   \n",
       "5                                                     NaN   \n",
       "...                                                   ...   \n",
       "320751                                                NaN   \n",
       "320756                                                NaN   \n",
       "320757                                                NaN   \n",
       "320763                                                NaN   \n",
       "320771  E330 - Acide citrique,E951 - Aspartame,E150a -...   \n",
       "\n",
       "       ingredients_from_palm_oil_tags  \\\n",
       "1                                 NaN   \n",
       "2                                 NaN   \n",
       "3                                 NaN   \n",
       "4                                 NaN   \n",
       "5                                 NaN   \n",
       "...                               ...   \n",
       "320751                            NaN   \n",
       "320756                            NaN   \n",
       "320757                            NaN   \n",
       "320763                            NaN   \n",
       "320771                            NaN   \n",
       "\n",
       "       ingredients_that_may_be_from_palm_oil_tags nutrition_grade_fr  \\\n",
       "1                                             NaN                  d   \n",
       "2                                             NaN                  b   \n",
       "3                                             NaN                  d   \n",
       "4                                             NaN                  a   \n",
       "5                                             NaN                  c   \n",
       "...                                           ...                ...   \n",
       "320751                                        NaN                  a   \n",
       "320756                                        NaN                  c   \n",
       "320757                                        NaN                  b   \n",
       "320763                                        NaN                  b   \n",
       "320771                                        NaN                  c   \n",
       "\n",
       "                                                image_url  \\\n",
       "1                                                     NaN   \n",
       "2                                                     NaN   \n",
       "3                                                     NaN   \n",
       "4                                                     NaN   \n",
       "5                                                     NaN   \n",
       "...                                                   ...   \n",
       "320751  http://fr.openfoodfacts.org/images/products/98...   \n",
       "320756                                                NaN   \n",
       "320757                                                NaN   \n",
       "320763  http://fr.openfoodfacts.org/images/products/99...   \n",
       "320771                                                NaN   \n",
       "\n",
       "                                          image_small_url  energy_100g  \\\n",
       "1                                                     NaN       2243.0   \n",
       "2                                                     NaN       1941.0   \n",
       "3                                                     NaN       2540.0   \n",
       "4                                                     NaN       1552.0   \n",
       "5                                                     NaN       1933.0   \n",
       "...                                                   ...          ...   \n",
       "320751  http://fr.openfoodfacts.org/images/products/98...       1643.0   \n",
       "320756                                                NaN        569.0   \n",
       "320757                                                NaN       2406.0   \n",
       "320763  http://fr.openfoodfacts.org/images/products/99...         21.0   \n",
       "320771                                                NaN       2092.0   \n",
       "\n",
       "        fat_100g  saturated-fat_100g  carbohydrates_100g  sugars_100g  \\\n",
       "1          28.57              28.570              64.290        14.29   \n",
       "2          17.86               0.000              60.710        17.86   \n",
       "3          57.14               5.360              17.860         3.57   \n",
       "4           1.43               0.120              77.140         4.60   \n",
       "5          18.27               1.920              63.460        11.54   \n",
       "...          ...                 ...                 ...          ...   \n",
       "320751      2.80               0.600              74.800         2.60   \n",
       "320756     31.00               2.708              12.200         9.60   \n",
       "320757      9.88               3.730              17.078         3.89   \n",
       "320763      0.20               0.200               0.500         0.50   \n",
       "320771      0.00               0.000               0.000         0.00   \n",
       "\n",
       "        fiber_100g  proteins_100g  salt_100g  nutrition-score-fr_100g  \n",
       "1              3.6           3.57   0.000000                     14.0  \n",
       "2              7.1          17.86   0.635000                      0.0  \n",
       "3              7.1          17.86   1.224280                     12.0  \n",
       "4              5.7           8.57   0.510000                     -2.0  \n",
       "5              7.7          13.46   1.006244                      6.0  \n",
       "...            ...            ...        ...                      ...  \n",
       "320751         5.9          13.00   0.680000                     -4.0  \n",
       "320756         1.1           2.10   1.100000                      8.0  \n",
       "320757        12.2          21.22   0.100000                      0.0  \n",
       "320763         0.2           0.50   0.025400                      1.0  \n",
       "320771         0.0           0.00   0.000000                      6.0  \n",
       "\n",
       "[263548 rows x 38 columns]"
      ]
     },
     "execution_count": 72,
     "metadata": {},
     "output_type": "execute_result"
    }
   ],
   "source": [
    "DataProduits_imputed_KNN"
   ]
  },
  {
   "cell_type": "code",
   "execution_count": 73,
   "id": "e29d4c96-25f8-4790-a25b-62f23708b58b",
   "metadata": {},
   "outputs": [],
   "source": [
    "DataProduits_imputed_KNN.to_csv('DataProduits_imputed.csv', index=False)"
   ]
  },
  {
   "cell_type": "code",
   "execution_count": null,
   "id": "5d5d229a-22b5-438b-9f8e-93a8d50854b1",
   "metadata": {},
   "outputs": [],
   "source": []
  }
 ],
 "metadata": {
  "celltoolbar": "Format de la Cellule Texte Brut",
  "kernelspec": {
   "display_name": "Python 3",
   "language": "python",
   "name": "python3"
  },
  "language_info": {
   "codemirror_mode": {
    "name": "ipython",
    "version": 3
   },
   "file_extension": ".py",
   "mimetype": "text/x-python",
   "name": "python",
   "nbconvert_exporter": "python",
   "pygments_lexer": "ipython3",
   "version": "3.8.8"
  },
  "vscode": {
   "interpreter": {
    "hash": "66168a667a11ac16aca0d0d9742c8419f93457ff66115bf85239ea370d417636"
   }
  }
 },
 "nbformat": 4,
 "nbformat_minor": 5
}
